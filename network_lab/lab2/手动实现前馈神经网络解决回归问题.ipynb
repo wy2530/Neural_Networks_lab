{
 "cells": [
  {
   "cell_type": "code",
   "execution_count": 2,
   "metadata": {},
   "outputs": [],
   "source": [
    "import torch\n",
    "import numpy as np\n",
    "import random\n",
    "from IPython import display\n",
    "from matplotlib import pyplot as plt\n",
    "import torch.utils.data as Data\n",
    "import os\n",
    "os.environ[\"KMP_DUPLICATE_LIB_OK\"]=\"TRUE\"  #防止jupyter崩溃"
   ]
  },
  {
   "cell_type": "markdown",
   "metadata": {},
   "source": [
    "手动生成回归任务的数据集，训练集为大小为7000，测试集为3000样本特征维度p为500"
   ]
  },
  {
   "cell_type": "code",
   "execution_count": 3,
   "metadata": {
    "scrolled": true
   },
   "outputs": [
    {
     "name": "stdout",
     "output_type": "stream",
     "text": [
      "torch.Size([7000, 500])\n",
      "torch.Size([3000, 500])\n"
     ]
    }
   ],
   "source": [
    "#自定义数据---训练集\n",
    "num_inputs = 500\n",
    "#一共一万个数据，前7000为训练集，后3000为测试集\n",
    "num_examples = 10000\n",
    "true_w = torch.ones(500,1)*0.0056\n",
    "true_b = 0.028\n",
    "x_features = torch.tensor(np.random.normal(0, 1, (num_examples, num_inputs)), dtype=torch.float)\n",
    "y_labels = torch.mm(x_features,true_w) + true_b\n",
    "y_labels += torch.tensor(np.random.normal(0, 0.01, size=y_labels.size()), dtype=torch.float)\n",
    "#训练集\n",
    "trainfeatures =x_features[:7000]\n",
    "trainlabels = y_labels[:7000]\n",
    "print(trainfeatures.shape)\n",
    "#测试集\n",
    "testfeatures =x_features[7000:]\n",
    "testlabels = y_labels[7000:]\n",
    "print(testfeatures.shape)"
   ]
  },
  {
   "cell_type": "code",
   "execution_count": 4,
   "metadata": {},
   "outputs": [],
   "source": [
    "#读取数据\n",
    "batch_size = 50\n",
    "# 将训练数据的特征和标签组合\n",
    "dataset = Data.TensorDataset(trainfeatures, trainlabels)\n",
    "# 把 dataset 放入 DataLoader\n",
    "train_iter = Data.DataLoader(\n",
    "    dataset=dataset, # torch TensorDataset format\n",
    "    batch_size=batch_size, # mini batch size\n",
    "    shuffle=True, # 是否打乱数据 (训练集一般需要进行打乱)\n",
    "    num_workers=0, # 多线程来读数据， 注意在Windows下需要设置为0\n",
    ")\n",
    "# 将测试数据的特征和标签组合\n",
    "dataset = Data.TensorDataset(testfeatures, testlabels)\n",
    "# 把 dataset 放入 DataLoader\n",
    "test_iter = Data.DataLoader(\n",
    "    dataset=dataset, # torch TensorDataset format\n",
    "    batch_size=batch_size, # mini batch size\n",
    "    shuffle=True, # 是否打乱数据 (训练集一般需要进行打乱)\n",
    "    num_workers=0, # 多线程来读数据， 注意在Windows下需要设置为0\n",
    ")"
   ]
  },
  {
   "cell_type": "code",
   "execution_count": 5,
   "metadata": {},
   "outputs": [],
   "source": [
    "#初始化参数\n",
    "num_hiddens,num_outputs = 256,1\n",
    "\n",
    "W1 = torch.tensor(np.random.normal(0, 0.01, (num_hiddens,num_inputs)), dtype=torch.float32)\n",
    "b1 = torch.zeros(1, dtype=torch.float32)\n",
    "W2 = torch.tensor(np.random.normal(0, 0.01, (num_outputs,num_hiddens)), dtype=torch.float32)\n",
    "b2 = torch.zeros(1, dtype=torch.float32)\n",
    "params =[W1,b1,W2,b2]\n",
    "for param in params:\n",
    "    param.requires_grad_(requires_grad=True)"
   ]
  },
  {
   "cell_type": "code",
   "execution_count": 6,
   "metadata": {},
   "outputs": [],
   "source": [
    "def relu(x):\n",
    "    x = torch.max(input=x,other=torch.tensor(0.0))\n",
    "    return x"
   ]
  },
  {
   "cell_type": "code",
   "execution_count": 7,
   "metadata": {},
   "outputs": [],
   "source": [
    "#定义模型\n",
    "def net(X):\n",
    "    X = X.view((-1,num_inputs))\n",
    "    H = relu(torch.matmul(X,W1.t())+b1)\n",
    "    return torch.matmul(H,W2.t())+b2"
   ]
  },
  {
   "cell_type": "code",
   "execution_count": 8,
   "metadata": {},
   "outputs": [],
   "source": [
    "#定义最小化均方误差\n",
    "loss = torch.nn.MSELoss()\n",
    "\n",
    "#定义随机梯度下降法\n",
    "def SGD(paras,lr,batch_size):\n",
    "    for param in params:\n",
    "        param.data -= lr * param.grad/batch_size"
   ]
  },
  {
   "cell_type": "code",
   "execution_count": 9,
   "metadata": {},
   "outputs": [],
   "source": [
    "#测试集准确率\n",
    "def evaluate_accuracy(data_iter,net):\n",
    "    acc_sum,n = 0.0,0\n",
    "    for X,y in data_iter:\n",
    "        acc_sum += (net(X)==y).float().sum().item()\n",
    "        n+=y.shape[0]\n",
    "    return acc_sum/n"
   ]
  },
  {
   "cell_type": "code",
   "execution_count": 10,
   "metadata": {},
   "outputs": [],
   "source": [
    "#定义模型训练函数\n",
    "def train(net,train_iter,test_iter,loss,num_epochs,batch_size,params=None,lr=None,optimizer=None):\n",
    "    train_ls = []\n",
    "    test_ls = []\n",
    "    for epoch in range(num_epochs): # 训练模型一共需要num_epochs个迭代周期\n",
    "        train_l_sum, train_acc_sum,n = 0.0,0.0,0\n",
    "        # 在每一个迭代周期中，会使用训练数据集中所有样本一次\n",
    "        for X, y in train_iter: # x和y分别是小批量样本的特征和标签\n",
    "            y_hat = net(X)\n",
    "            l = loss(y_hat, y.view(-1,1)) # l是有关小批量X和y的损失\n",
    "            #梯度清零\n",
    "            if optimizer is not None:\n",
    "                optimizer.zero_grad()\n",
    "            elif params is not None and params[0].grad is not None:\n",
    "                for param in params:\n",
    "                    param.grad.data.zero_()\n",
    "            l.backward() # 小批量的损失对模型参数求梯度\n",
    "            if optimizer is None:\n",
    "                SGD(params,lr,batch_size)\n",
    "            else:\n",
    "                optimizer.step()\n",
    "        train_labels = trainlabels.view(-1,1)\n",
    "        test_labels = testlabels.view(-1,1)\n",
    "        train_ls.append(loss(net(trainfeatures),train_labels).item())\n",
    "        test_ls.append(loss(net(testfeatures),test_labels).item())\n",
    "        print('epoch %d, train_loss %.6f,test_loss %f'%(epoch+1, train_ls[epoch],test_ls[epoch]))\n",
    "    return train_ls,test_ls"
   ]
  },
  {
   "cell_type": "code",
   "execution_count": 11,
   "metadata": {},
   "outputs": [
    {
     "name": "stdout",
     "output_type": "stream",
     "text": [
      "epoch 1, train_loss 0.016852,test_loss 0.016530\n",
      "epoch 2, train_loss 0.016234,test_loss 0.015972\n",
      "epoch 3, train_loss 0.016022,test_loss 0.015794\n",
      "epoch 4, train_loss 0.015880,test_loss 0.015676\n",
      "epoch 5, train_loss 0.015752,test_loss 0.015570\n",
      "epoch 6, train_loss 0.015629,test_loss 0.015463\n",
      "epoch 7, train_loss 0.015509,test_loss 0.015360\n",
      "epoch 8, train_loss 0.015390,test_loss 0.015256\n",
      "epoch 9, train_loss 0.015272,test_loss 0.015155\n",
      "epoch 10, train_loss 0.015156,test_loss 0.015056\n",
      "epoch 11, train_loss 0.015040,test_loss 0.014954\n",
      "epoch 12, train_loss 0.014924,test_loss 0.014854\n",
      "epoch 13, train_loss 0.014810,test_loss 0.014755\n",
      "epoch 14, train_loss 0.014695,test_loss 0.014656\n",
      "epoch 15, train_loss 0.014580,test_loss 0.014558\n",
      "epoch 16, train_loss 0.014466,test_loss 0.014458\n",
      "epoch 17, train_loss 0.014350,test_loss 0.014359\n",
      "epoch 18, train_loss 0.014235,test_loss 0.014259\n",
      "epoch 19, train_loss 0.014118,test_loss 0.014157\n",
      "epoch 20, train_loss 0.014001,test_loss 0.014057\n",
      "epoch 21, train_loss 0.013882,test_loss 0.013954\n",
      "epoch 22, train_loss 0.013763,test_loss 0.013852\n",
      "epoch 23, train_loss 0.013642,test_loss 0.013746\n",
      "epoch 24, train_loss 0.013520,test_loss 0.013640\n",
      "epoch 25, train_loss 0.013396,test_loss 0.013532\n",
      "epoch 26, train_loss 0.013271,test_loss 0.013423\n",
      "epoch 27, train_loss 0.013143,test_loss 0.013314\n",
      "epoch 28, train_loss 0.013014,test_loss 0.013201\n",
      "epoch 29, train_loss 0.012883,test_loss 0.013087\n",
      "epoch 30, train_loss 0.012750,test_loss 0.012969\n",
      "epoch 31, train_loss 0.012614,test_loss 0.012851\n",
      "epoch 32, train_loss 0.012476,test_loss 0.012730\n",
      "epoch 33, train_loss 0.012335,test_loss 0.012608\n",
      "epoch 34, train_loss 0.012192,test_loss 0.012482\n",
      "epoch 35, train_loss 0.012046,test_loss 0.012354\n",
      "epoch 36, train_loss 0.011897,test_loss 0.012223\n",
      "epoch 37, train_loss 0.011746,test_loss 0.012091\n",
      "epoch 38, train_loss 0.011592,test_loss 0.011954\n",
      "epoch 39, train_loss 0.011435,test_loss 0.011817\n",
      "epoch 40, train_loss 0.011275,test_loss 0.011674\n",
      "epoch 41, train_loss 0.011113,test_loss 0.011530\n",
      "epoch 42, train_loss 0.010947,test_loss 0.011383\n",
      "epoch 43, train_loss 0.010778,test_loss 0.011235\n",
      "epoch 44, train_loss 0.010607,test_loss 0.011082\n",
      "epoch 45, train_loss 0.010433,test_loss 0.010926\n",
      "epoch 46, train_loss 0.010256,test_loss 0.010767\n",
      "epoch 47, train_loss 0.010077,test_loss 0.010606\n",
      "epoch 48, train_loss 0.009895,test_loss 0.010442\n",
      "epoch 49, train_loss 0.009710,test_loss 0.010277\n",
      "epoch 50, train_loss 0.009523,test_loss 0.010108\n"
     ]
    }
   ],
   "source": [
    "lr = 0.05\n",
    "num_epochs = 50\n",
    "train_loss,test_loss = train(net,train_iter,test_iter,loss,num_epochs,batch_size,params,lr)"
   ]
  },
  {
   "cell_type": "code",
   "execution_count": 12,
   "metadata": {},
   "outputs": [
    {
     "data": {
      "image/png": "[encoded data removed]",
      "text/plain": [
       "<Figure size 432x288 with 1 Axes>"
      ]
     },
     "metadata": {
      "needs_background": "light"
     },
     "output_type": "display_data"
    }
   ],
   "source": [
    "x = np.linspace(0,len(train_loss),len(train_loss))\n",
    "plt.plot(x,train_loss,label=\"train_loss\",linewidth=1.5)\n",
    "plt.plot(x,test_loss,label=\"test_loss\",linewidth=1.5)\n",
    "plt.xlabel(\"epoch\")\n",
    "plt.ylabel(\"loss\")\n",
    "plt.legend()\n",
    "plt.show()"
   ]
  },
  {
   "cell_type": "code",
   "execution_count": null,
   "metadata": {},
   "outputs": [],
   "source": []
  },
  {
   "cell_type": "code",
   "execution_count": null,
   "metadata": {},
   "outputs": [],
   "source": []
  }
 ],
 "metadata": {
  "kernelspec": {
   "display_name": "Python 3.7.4 64-bit ('pytorch': conda)",
   "language": "python",
   "name": "python37464bitpytorchconda0a4842cb181546f0bba59e31fe04aadb"
  },
  "language_info": {
   "codemirror_mode": {
    "name": "ipython",
    "version": 3
   },
   "file_extension": ".py",
   "mimetype": "text/x-python",
   "name": "python",
   "nbconvert_exporter": "python",
   "pygments_lexer": "ipython3",
   "version": "3.7.9"
  }
 },
 "nbformat": 4,
 "nbformat_minor": 5
}
