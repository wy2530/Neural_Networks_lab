{
 "cells": [
  {
   "cell_type": "code",
   "execution_count": 30,
   "id": "19835b71",
   "metadata": {},
   "outputs": [],
   "source": [
    "import torch\n",
    "import numpy as np\n",
    "import random\n",
    "from IPython import display\n",
    "from matplotlib import pyplot as plt\n",
    "from torch import nn\n",
    "import torch.utils.data as Data\n",
    "import torch.optim as optim\n",
    "from torch.nn import init\n",
    "import torchvision\n",
    "import torchvision.transforms as transforms\n",
    "import os\n",
    "os.environ[\"KMP_DUPLICATE_LIB_OK\"]=\"TRUE\"  #防止jupyter崩溃"
   ]
  },
  {
   "cell_type": "code",
   "execution_count": 31,
   "id": "73859928",
   "metadata": {
    "scrolled": true
   },
   "outputs": [],
   "source": [
    "#下载MNIST手写数据集\n",
    "mnist_train = torchvision.datasets.MNIST(root='./Datasets/MNIST', train=True,\n",
    "download=True, transform=transforms.ToTensor())\n",
    "mnist_test = torchvision.datasets.MNIST(root='./Datasets/MNIST', train=False,\n",
    "download=True, transform=transforms.ToTensor())\n",
    "#读取数据\n",
    "batch_size = 32\n",
    "train_iter = torch.utils.data.DataLoader(mnist_train, batch_size=batch_size, shuffle=True,\n",
    "num_workers=0)\n",
    "test_iter = torch.utils.data.DataLoader(mnist_test, batch_size=batch_size, shuffle=False,\n",
    "num_workers=0)"
   ]
  },
  {
   "cell_type": "code",
   "execution_count": 32,
   "id": "c6ec4e0e",
   "metadata": {},
   "outputs": [],
   "source": [
    "#实现FlattenLayer层\n",
    "class FlattenLayer(torch.nn.Module):\n",
    "    def __init__(self):\n",
    "         super(FlattenLayer, self).__init__()\n",
    "    def forward(self, x):\n",
    "        return x.view(x.shape[0],-1)"
   ]
  },
  {
   "cell_type": "code",
   "execution_count": 33,
   "id": "c284ff3d",
   "metadata": {},
   "outputs": [],
   "source": [
    "#模型定义和参数初始化\n",
    "num_inputs,num_hiddens,num_outputs = 784,256,10\n",
    "net = nn.Sequential(\n",
    "        FlattenLayer(),\n",
    "        nn.Linear(num_inputs,num_hiddens),\n",
    "        nn.ReLU(),\n",
    "        nn.Linear(num_hiddens,num_outputs)\n",
    "        )\n",
    "\n",
    "for params in net.parameters():\n",
    "    init.normal_(params,mean=0,std=0.01)"
   ]
  },
  {
   "cell_type": "code",
   "execution_count": 34,
   "id": "32f61190",
   "metadata": {},
   "outputs": [],
   "source": [
    "#训练次数和学习率\n",
    "num_epochs = 50\n",
    "lr = 0.01\n",
    "#定义交叉熵损失函数\n",
    "loss = torch.nn.CrossEntropyLoss()\n",
    "#L2正则化 由于b为常数，改变b值对模型整体影响不大，此处一起惩罚，并未区分\n",
    "optimizer = torch.optim.SGD(net.parameters(),lr,weight_decay=1e-2)"
   ]
  },
  {
   "cell_type": "code",
   "execution_count": 35,
   "id": "465c9ad1",
   "metadata": {},
   "outputs": [],
   "source": [
    "#测试集loss\n",
    "def evaluate_loss(data_iter,net):\n",
    "    acc_sum,loss_sum,n = 0.0,0.0,0\n",
    "    for X,y in data_iter:\n",
    "        y_hat = net(X)\n",
    "        acc_sum += (y_hat.argmax(dim=1)==y).sum().item()\n",
    "        l = loss(y_hat,y) # l是有关小批量X和y的损失\n",
    "        loss_sum += l.sum().item()*y.shape[0]\n",
    "        n+=y.shape[0]\n",
    "    return acc_sum/n,loss_sum/n"
   ]
  },
  {
   "cell_type": "code",
   "execution_count": 36,
   "id": "67d8ed43",
   "metadata": {},
   "outputs": [],
   "source": [
    "#定义模型训练函数\n",
    "def train(net,train_iter,test_iter,loss,num_epochs,batch_size,params=None,lr=None,optimizer=None):\n",
    "    train_ls = []\n",
    "    test_ls = []\n",
    "    for epoch in range(num_epochs): # 训练模型一共需要num_epochs个迭代周期\n",
    "        train_l_sum, train_acc_num,n = 0.0,0.0,0\n",
    "        # 在每一个迭代周期中，会使用训练数据集中所有样本一次\n",
    "        for X, y in train_iter: # x和y分别是小批量样本的特征和标签\n",
    "            y_hat = net(X)\n",
    "            l = loss(y_hat, y).sum() # l是有关小批量X和y的损失\n",
    "            #梯度清零\n",
    "            if optimizer is not None:\n",
    "                optimizer.zero_grad()\n",
    "            elif params is not None and params[0].grad is not None:\n",
    "                for param in params:\n",
    "                    param.grad.data.zero_()\n",
    "            l.backward() # 小批量的损失对模型参数求梯度\n",
    "            if optimizer is None:\n",
    "                SGD(params,lr)\n",
    "            else:\n",
    "                optimizer.step()\n",
    "            #计算每个epoch的loss\n",
    "            train_l_sum += l.item()*y.shape[0]\n",
    "            #计算训练样本的准确率\n",
    "            train_acc_num += (y_hat.argmax(dim=1)==y).sum().item()\n",
    "            #每一个epoch的所有样本数\n",
    "            n+= y.shape[0]\n",
    "        train_ls.append(train_l_sum/n)\n",
    "        test_acc,test_l = evaluate_loss(test_iter,net)\n",
    "        test_ls.append(test_l)\n",
    "        print('epoch %d, train_loss %.6f,test_loss %f,train_acc %.6f,test_acc %.6f'%(epoch+1, train_ls[epoch],test_ls[epoch],train_acc_num/n,test_acc))\n",
    "    return train_ls,test_ls"
   ]
  },
  {
   "cell_type": "code",
   "execution_count": 37,
   "id": "e8c35600",
   "metadata": {
    "scrolled": false
   },
   "outputs": [
    {
     "name": "stdout",
     "output_type": "stream",
     "text": [
      "epoch 1, train_loss 1.209822,test_loss 0.518126,train_acc 0.720917,test_acc 0.873400\n",
      "epoch 2, train_loss 0.455061,test_loss 0.388024,train_acc 0.882683,test_acc 0.898800\n",
      "epoch 3, train_loss 0.386486,test_loss 0.353744,train_acc 0.898983,test_acc 0.906200\n",
      "epoch 4, train_loss 0.360963,test_loss 0.336683,train_acc 0.905550,test_acc 0.912100\n",
      "epoch 5, train_loss 0.346036,test_loss 0.324864,train_acc 0.909883,test_acc 0.915200\n",
      "epoch 6, train_loss 0.335267,test_loss 0.316686,train_acc 0.913467,test_acc 0.918100\n",
      "epoch 7, train_loss 0.326648,test_loss 0.308872,train_acc 0.915950,test_acc 0.921900\n",
      "epoch 8, train_loss 0.318852,test_loss 0.303240,train_acc 0.918417,test_acc 0.921600\n",
      "epoch 9, train_loss 0.312746,test_loss 0.296987,train_acc 0.920083,test_acc 0.923600\n",
      "epoch 10, train_loss 0.307117,test_loss 0.292110,train_acc 0.921983,test_acc 0.926500\n",
      "epoch 11, train_loss 0.301997,test_loss 0.286209,train_acc 0.923567,test_acc 0.927100\n",
      "epoch 12, train_loss 0.297676,test_loss 0.282990,train_acc 0.924967,test_acc 0.929700\n",
      "epoch 13, train_loss 0.294122,test_loss 0.280198,train_acc 0.926200,test_acc 0.929400\n",
      "epoch 14, train_loss 0.291142,test_loss 0.279128,train_acc 0.927867,test_acc 0.930100\n",
      "epoch 15, train_loss 0.287985,test_loss 0.276634,train_acc 0.928800,test_acc 0.932500\n",
      "epoch 16, train_loss 0.285849,test_loss 0.272870,train_acc 0.929150,test_acc 0.933000\n",
      "epoch 17, train_loss 0.283554,test_loss 0.270201,train_acc 0.930183,test_acc 0.933900\n",
      "epoch 18, train_loss 0.281524,test_loss 0.268630,train_acc 0.931283,test_acc 0.934300\n",
      "epoch 19, train_loss 0.279752,test_loss 0.268668,train_acc 0.931317,test_acc 0.934100\n",
      "epoch 20, train_loss 0.278309,test_loss 0.266876,train_acc 0.931950,test_acc 0.934900\n",
      "epoch 21, train_loss 0.276939,test_loss 0.265253,train_acc 0.932283,test_acc 0.933800\n",
      "epoch 22, train_loss 0.275690,test_loss 0.264592,train_acc 0.932733,test_acc 0.935000\n",
      "epoch 23, train_loss 0.274055,test_loss 0.263399,train_acc 0.933633,test_acc 0.935200\n",
      "epoch 24, train_loss 0.273107,test_loss 0.262650,train_acc 0.934233,test_acc 0.935900\n",
      "epoch 25, train_loss 0.272412,test_loss 0.259794,train_acc 0.934217,test_acc 0.938100\n",
      "epoch 26, train_loss 0.271291,test_loss 0.260439,train_acc 0.934300,test_acc 0.936400\n",
      "epoch 27, train_loss 0.270538,test_loss 0.259087,train_acc 0.934683,test_acc 0.936700\n",
      "epoch 28, train_loss 0.269791,test_loss 0.258635,train_acc 0.935233,test_acc 0.938300\n",
      "epoch 29, train_loss 0.269142,test_loss 0.257429,train_acc 0.935633,test_acc 0.938800\n",
      "epoch 30, train_loss 0.268377,test_loss 0.257509,train_acc 0.935883,test_acc 0.938900\n",
      "epoch 31, train_loss 0.267667,test_loss 0.256603,train_acc 0.935533,test_acc 0.939100\n",
      "epoch 32, train_loss 0.267216,test_loss 0.255298,train_acc 0.936300,test_acc 0.939100\n",
      "epoch 33, train_loss 0.266594,test_loss 0.254840,train_acc 0.936317,test_acc 0.939100\n",
      "epoch 34, train_loss 0.265936,test_loss 0.254713,train_acc 0.936383,test_acc 0.938800\n",
      "epoch 35, train_loss 0.264978,test_loss 0.254264,train_acc 0.936733,test_acc 0.939800\n",
      "epoch 36, train_loss 0.264823,test_loss 0.254226,train_acc 0.937750,test_acc 0.939400\n",
      "epoch 37, train_loss 0.264507,test_loss 0.253964,train_acc 0.937233,test_acc 0.940200\n",
      "epoch 38, train_loss 0.263921,test_loss 0.253059,train_acc 0.937167,test_acc 0.940100\n",
      "epoch 39, train_loss 0.263493,test_loss 0.252101,train_acc 0.937150,test_acc 0.940000\n",
      "epoch 40, train_loss 0.262993,test_loss 0.251723,train_acc 0.937700,test_acc 0.940100\n",
      "epoch 41, train_loss 0.262734,test_loss 0.251219,train_acc 0.937600,test_acc 0.940400\n",
      "epoch 42, train_loss 0.262221,test_loss 0.251901,train_acc 0.937983,test_acc 0.941000\n",
      "epoch 43, train_loss 0.262068,test_loss 0.251618,train_acc 0.937950,test_acc 0.940300\n",
      "epoch 44, train_loss 0.262031,test_loss 0.251491,train_acc 0.937683,test_acc 0.941100\n",
      "epoch 45, train_loss 0.261168,test_loss 0.250705,train_acc 0.937750,test_acc 0.941200\n",
      "epoch 46, train_loss 0.261130,test_loss 0.249837,train_acc 0.938650,test_acc 0.942200\n",
      "epoch 47, train_loss 0.260956,test_loss 0.250872,train_acc 0.938067,test_acc 0.940700\n",
      "epoch 48, train_loss 0.260048,test_loss 0.249636,train_acc 0.938067,test_acc 0.940400\n",
      "epoch 49, train_loss 0.260223,test_loss 0.248964,train_acc 0.938650,test_acc 0.940900\n",
      "epoch 50, train_loss 0.259788,test_loss 0.249804,train_acc 0.938400,test_acc 0.941000\n"
     ]
    }
   ],
   "source": [
    "train_loss,test_loss = train(net,train_iter,test_iter,loss,num_epochs,batch_size,net.parameters,lr,optimizer)"
   ]
  },
  {
   "cell_type": "code",
   "execution_count": null,
   "id": "ce1c01a2",
   "metadata": {},
   "outputs": [],
   "source": []
  },
  {
   "cell_type": "code",
   "execution_count": null,
   "id": "38677ab3",
   "metadata": {},
   "outputs": [],
   "source": []
  }
 ],
 "metadata": {
  "kernelspec": {
   "display_name": "Python 3",
   "language": "python",
   "name": "python3"
  },
  "language_info": {
   "codemirror_mode": {
    "name": "ipython",
    "version": 3
   },
   "file_extension": ".py",
   "mimetype": "text/x-python",
   "name": "python",
   "nbconvert_exporter": "python",
   "pygments_lexer": "ipython3",
   "version": "3.8.8"
  }
 },
 "nbformat": 4,
 "nbformat_minor": 5
}
