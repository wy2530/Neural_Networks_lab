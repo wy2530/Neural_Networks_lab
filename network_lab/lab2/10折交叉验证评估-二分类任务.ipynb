{
 "cells": [
  {
   "cell_type": "code",
   "execution_count": 1,
   "metadata": {},
   "outputs": [],
   "source": [
    "import torch\n",
    "import numpy as np\n",
    "import random\n",
    "from IPython import display\n",
    "from matplotlib import pyplot as plt\n",
    "from torch import nn\n",
    "import torch.utils.data as Data\n",
    "import torch.optim as optim\n",
    "from torch.nn import init\n",
    "import os\n",
    "os.environ[\"KMP_DUPLICATE_LIB_OK\"]=\"TRUE\"  #防止jupyter崩溃"
   ]
  },
  {
   "cell_type": "code",
   "execution_count": 2,
   "metadata": {},
   "outputs": [
    {
     "name": "stdout",
     "output_type": "stream",
     "text": [
      "torch.Size([20000, 200]) torch.Size([20000, 1])\n"
     ]
    }
   ],
   "source": [
    "#自定义数据---训练集\n",
    "num_inputs = 200\n",
    "#1类\n",
    "x1 = torch.normal(2,1,(10000, num_inputs))\n",
    "y1 = torch.ones(10000,1) # 标签1 \n",
    "x1_train = x1[:7000]\n",
    "x1_test = x1[7000:]\n",
    "#0类\n",
    "x2 = torch.normal(-2,1,(10000, num_inputs))\n",
    "y2 = torch.zeros(10000,1) # 标签0\n",
    "x2_train = x2[:7000]\n",
    "x2_test = x2[7000:]\n",
    "#合并训练集\n",
    "# 注意 x, y 数据的数据形式一定要像下面一样 (torch.cat 是合并数据)---按行合并\n",
    "trainfeatures = torch.cat((x1,x2), 0).type(torch.FloatTensor)\n",
    "trainlabels = torch.cat((y1, y2), 0).type(torch.FloatTensor)\n",
    "print(trainfeatures.shape,trainlabels.shape)\n"
   ]
  },
  {
   "cell_type": "code",
   "execution_count": 3,
   "metadata": {},
   "outputs": [
    {
     "data": {
      "text/plain": [
       "<matplotlib.collections.PathCollection at 0x275d70d6b80>"
      ]
     },
     "execution_count": 3,
     "metadata": {},
     "output_type": "execute_result"
    },
    {
     "data": {
      "image/png": "[encoded data removed]",
      "text/plain": [
       "<Figure size 432x288 with 1 Axes>"
      ]
     },
     "metadata": {
      "needs_background": "light"
     },
     "output_type": "display_data"
    }
   ],
   "source": [
    "plt.scatter(trainfeatures.data.numpy()[:, 0], trainfeatures.data.numpy()[:, 1], c=trainlabels.data.numpy(), s=100, lw=0,\n",
    "cmap='RdYlGn')"
   ]
  },
  {
   "cell_type": "code",
   "execution_count": 4,
   "metadata": {},
   "outputs": [],
   "source": [
    "batch_size = 50"
   ]
  },
  {
   "cell_type": "code",
   "execution_count": 5,
   "metadata": {},
   "outputs": [],
   "source": [
    "#实现FlattenLayer层\n",
    "class FlattenLayer(torch.nn.Module):\n",
    "    def __init__(self):\n",
    "         super(FlattenLayer, self).__init__()\n",
    "    def forward(self, x):\n",
    "        return x.view(x.shape[0],-1)"
   ]
  },
  {
   "cell_type": "code",
   "execution_count": 6,
   "metadata": {},
   "outputs": [],
   "source": [
    "#模型定义和参数初始化\n",
    "num_hiddens,num_outputs = 256,1\n",
    "net = nn.Sequential(\n",
    "        FlattenLayer(),\n",
    "        nn.Linear(num_inputs,num_hiddens),\n",
    "        nn.ReLU(),\n",
    "        nn.Linear(num_hiddens,num_outputs)\n",
    "        )\n",
    "\n",
    "for params in net.parameters():\n",
    "    init.normal_(params,mean=0,std=0.01)"
   ]
  },
  {
   "cell_type": "code",
   "execution_count": 7,
   "metadata": {},
   "outputs": [],
   "source": [
    "lr = 0.0005\n",
    "#定义交叉熵损失函数\n",
    "loss = torch.nn.BCEWithLogitsLoss()\n",
    "optimizer = torch.optim.SGD(net.parameters(),lr)"
   ]
  },
  {
   "cell_type": "code",
   "execution_count": 8,
   "metadata": {},
   "outputs": [],
   "source": [
    "#定义测试集准确率函数\n",
    "def evaluate_accuracy(test_iter):\n",
    "    acc_sum,n = 0.0,0\n",
    "    for X,y in test_iter:\n",
    "        y_hat = net(X)\n",
    "        y_hat = torch.squeeze(torch.where(y_hat>0.5,torch.tensor(1.0),torch.tensor(0.0)))\n",
    "        y=torch.squeeze(torch.where(y>0.5,torch.tensor(1.0),torch.tensor(0.0)))\n",
    "        acc_sum += (y_hat==y).float().sum().item()\n",
    "        n+=y.shape[0]\n",
    "    return acc_sum/n"
   ]
  },
  {
   "cell_type": "code",
   "execution_count": 9,
   "metadata": {},
   "outputs": [],
   "source": [
    "#定义模型训练函数\n",
    "def train(net,train_iter,test_iter,loss,num_epochs,batch_size,trainfeatures,trainlabels,testfeatures,testlabels,params=None,lr=None,optimizer=None):\n",
    "    train_ls = []\n",
    "    test_ls = []\n",
    "    for epoch in range(num_epochs): # 训练模型一共需要num_epochs个迭代周期\n",
    "        train_l_sum, train_acc_num,n = 0.0,0.0,0\n",
    "        # 在每一个迭代周期中，会使用训练数据集中所有样本一次\n",
    "        for X, y in train_iter: # x和y分别是小批量样本的特征和标签\n",
    "            y_hat = net(X)\n",
    "            l = loss(y_hat, y.view(-1,1)) # l是有关小批量X和y的损失\n",
    "            #梯度清零\n",
    "            if optimizer is not None:\n",
    "                optimizer.zero_grad()\n",
    "            elif params is not None and params[0].grad is not None:\n",
    "                for param in params:\n",
    "                    param.grad.data.zero_()\n",
    "            l.backward() # 小批量的损失对模型参数求梯度\n",
    "            if optimizer is None:\n",
    "                SGD(params,lr)\n",
    "            else:\n",
    "                optimizer.step()\n",
    "            #计算每个epoch的loss\n",
    "            train_l_sum += l.item()*y.shape[0]\n",
    "            #计算训练样本的准确率\n",
    "            y_hat = torch.squeeze(torch.where(y_hat>0.5,torch.tensor(1.0),torch.tensor(0.0)))\n",
    "            y=torch.squeeze(torch.where(y>0.5,torch.tensor(1.0),torch.tensor(0.0)))\n",
    "            train_acc_num += (y_hat==y).sum().item()\n",
    "            #每一个epoch的所有样本数\n",
    "            n+= y.shape[0]\n",
    "        \n",
    "        train_labels = trainlabels.view(-1,1)\n",
    "        test_labels = testlabels.view(-1,1)\n",
    "        train_acc=train_acc_num/n\n",
    "        test_acc=evaluate_accuracy(test_iter)\n",
    "        train_ls.append(train_l_sum/n)\n",
    "        test_ls.append(loss(net(testfeatures),test_labels).item())\n",
    "    print('epoch %d, train_loss %.6f,test_loss %f train_acc %f test_acc %f'%(epoch+1, train_ls[epoch],test_ls[epoch],train_acc,test_acc))\n",
    "    return train_ls[epoch],test_ls[epoch],train_acc,test_acc"
   ]
  },
  {
   "cell_type": "code",
   "execution_count": 10,
   "metadata": {},
   "outputs": [],
   "source": [
    "def get_kfold_data(k,i,X,y):\n",
    "    \"\"\"\n",
    "    k:一个K折\n",
    "    i:第几折\n",
    "    X:\n",
    "    \"\"\"\n",
    "    fold_size=X.shape[0]//k  # X是数据集，将所有数据集分为K份\n",
    "    val_start=i*fold_size  #\n",
    "    \n",
    "    if i!=k-1: # 不是最后一折\n",
    "        val_end=(i+1)*fold_size   \n",
    "        \n",
    "        ## 验证集\n",
    "        X_valid,y_valid =X[val_start:val_end],y[val_start:val_end]\n",
    "        ## 训练集\n",
    "        X_train=torch.cat((X[0:val_start],X[val_end:]),dim=0)\n",
    "        y_train=torch.cat((y[0:val_start],y[val_end:]),dim=0)\n",
    "    else:\n",
    "        X_valid,y_valid=X[val_start:],y[val_start:]  # 若不能整除，将多的样本放在最后一折里\n",
    "        X_train=X[0:val_start]\n",
    "        y_train=y[0:val_start]\n",
    "    return X_train,y_train,X_valid,y_valid"
   ]
  },
  {
   "cell_type": "code",
   "execution_count": 11,
   "metadata": {},
   "outputs": [],
   "source": [
    "def k_fold(k,X_train,y_train):\n",
    "    train_loss_sum,valid_loss_sum= 0,0\n",
    "    train_acc_sum,test_acc_sum=0,0\n",
    "    for i in range(k):\n",
    "        print(\"第\",i+1,\"折验证结果\")\n",
    "        X_train,y_train,X_valid,y_valid=get_kfold_data(k,i,X_train,y_train)  # 获取K折的训练集和验证集\n",
    "        train_dataset = Data.TensorDataset(X_train, y_train)\n",
    "        test_dataset = Data.TensorDataset(X_valid, y_valid)\n",
    "        \n",
    "        train_iter = Data.DataLoader(\n",
    "                dataset=train_dataset, # torch TensorDataset format\n",
    "                batch_size=batch_size, # mini batch size\n",
    "                shuffle=True, # 是否打乱数据 (训练集一般需要进行打乱)\n",
    "                num_workers=0, # 多线程来读数据， 注意在Windows下需要设置为0\n",
    "                    )\n",
    "        test_iter = Data.DataLoader(\n",
    "                dataset=test_dataset, # torch TensorDataset format\n",
    "                batch_size=batch_size, # mini batch size\n",
    "                shuffle=True, # 是否打乱数据 (训练集一般需要进行打乱)\n",
    "                num_workers=0, # 多线程来读数据， 注意在Windows下需要设置为0\n",
    "                    )\n",
    "        lr = 0.01\n",
    "        #损失函数和优化器\n",
    "        loss = torch.nn.MSELoss()\n",
    "        optimizer = torch.optim.SGD(net.parameters(),lr)\n",
    "        for params in net.parameters():\n",
    "            init.normal_(params,mean=0,std=0.01) #每轮训练都重新初始化参数\n",
    "        train_loss,test_loss,train_acc,test_acc = train(net,train_iter,test_iter,loss,num_epochs,batch_size,X_train,y_train,X_valid,y_valid,net.parameters,lr,optimizer)\n",
    "        train_loss_sum+=train_loss\n",
    "        valid_loss_sum+=test_loss\n",
    "        train_acc_sum+=train_acc\n",
    "        test_acc_sum+=test_acc\n",
    "    print(\"\\n最终k折交叉验证结果：\")\n",
    "    print(\"average train loss:{:.4f},average valis loss:{:.4f}\".format(train_loss_sum/k,valid_loss_sum/k))\n",
    "    print(\"average train accuracy:{:.4f},average test accuracy:{:.4f}\".format(train_acc_sum/k,test_acc_sum/k))\n",
    "    return"
   ]
  },
  {
   "cell_type": "code",
   "execution_count": 12,
   "metadata": {
    "scrolled": false
   },
   "outputs": [
    {
     "name": "stdout",
     "output_type": "stream",
     "text": [
      "第 1 折验证结果\n",
      "epoch 20, train_loss 0.000460,test_loss 0.001043 train_acc 1.000000 test_acc 1.000000\n",
      "第 2 折验证结果\n",
      "epoch 20, train_loss 0.000414,test_loss 0.001090 train_acc 1.000000 test_acc 1.000000\n",
      "第 3 折验证结果\n",
      "epoch 20, train_loss 0.000345,test_loss 0.001105 train_acc 1.000000 test_acc 1.000000\n",
      "第 4 折验证结果\n",
      "epoch 20, train_loss 0.000373,test_loss 0.000232 train_acc 1.000000 test_acc 1.000000\n",
      "第 5 折验证结果\n",
      "epoch 20, train_loss 0.000414,test_loss 0.000030 train_acc 1.000000 test_acc 1.000000\n",
      "第 6 折验证结果\n",
      "epoch 20, train_loss 0.000466,test_loss 0.000036 train_acc 1.000000 test_acc 1.000000\n",
      "第 7 折验证结果\n",
      "epoch 20, train_loss 0.000495,test_loss 0.000039 train_acc 1.000000 test_acc 1.000000\n",
      "第 8 折验证结果\n",
      "epoch 20, train_loss 0.000572,test_loss 0.000053 train_acc 1.000000 test_acc 1.000000\n",
      "第 9 折验证结果\n",
      "epoch 20, train_loss 0.000640,test_loss 0.000069 train_acc 1.000000 test_acc 1.000000\n",
      "第 10 折验证结果\n",
      "epoch 20, train_loss 0.000681,test_loss 0.000087 train_acc 1.000000 test_acc 1.000000\n",
      "\n",
      "最终k折交叉验证结果：\n",
      "average train loss:0.0005,average valis loss:0.0004\n",
      "average train accuracy:1.0000,average test accuracy:1.0000\n"
     ]
    }
   ],
   "source": [
    "#训练次数和学习率\n",
    "num_epochs = 20\n",
    "k_fold(10,trainfeatures,trainlabels)"
   ]
  },
  {
   "cell_type": "code",
   "execution_count": null,
   "metadata": {},
   "outputs": [],
   "source": []
  },
  {
   "cell_type": "code",
   "execution_count": null,
   "metadata": {},
   "outputs": [],
   "source": []
  },
  {
   "cell_type": "code",
   "execution_count": null,
   "metadata": {},
   "outputs": [],
   "source": []
  }
 ],
 "metadata": {
  "kernelspec": {
   "display_name": "Python 3",
   "language": "python",
   "name": "python3"
  },
  "language_info": {
   "codemirror_mode": {
    "name": "ipython",
    "version": 3
   },
   "file_extension": ".py",
   "mimetype": "text/x-python",
   "name": "python",
   "nbconvert_exporter": "python",
   "pygments_lexer": "ipython3",
   "version": "3.7.4"
  }
 },
 "nbformat": 4,
 "nbformat_minor": 5
}
