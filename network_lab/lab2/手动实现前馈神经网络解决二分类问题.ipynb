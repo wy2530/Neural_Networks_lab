{
 "cells": [
  {
   "cell_type": "code",
   "execution_count": 1,
   "metadata": {},
   "outputs": [],
   "source": [
    "import torch\n",
    "import numpy as np\n",
    "import random\n",
    "from IPython import display\n",
    "from matplotlib import pyplot as plt\n",
    "import torch.utils.data as Data\n",
    "import os\n",
    "os.environ[\"KMP_DUPLICATE_LIB_OK\"]=\"TRUE\"  #防止jupyter崩溃"
   ]
  },
  {
   "cell_type": "code",
   "execution_count": 2,
   "metadata": {},
   "outputs": [
    {
     "name": "stdout",
     "output_type": "stream",
     "text": [
      "torch.Size([14000, 200]) torch.Size([14000, 1]) torch.Size([6000, 200]) torch.Size([6000, 1])\n"
     ]
    }
   ],
   "source": [
    "#自定义数据---训练集\n",
    "num_inputs = 200\n",
    "#1类\n",
    "x1 = torch.normal(2,1,(10000, num_inputs))\n",
    "y1 = torch.ones(10000,1) # 标签1 \n",
    "x1_train = x1[:7000]\n",
    "x1_test = x1[7000:]\n",
    "#0类\n",
    "x2 = torch.normal(-2,1,(10000, num_inputs))\n",
    "y2 = torch.zeros(10000,1) # 标签0\n",
    "x2_train = x2[:7000]\n",
    "x2_test = x2[7000:]\n",
    "#合并训练集\n",
    "# 注意 x, y 数据的数据形式一定要像下面一样 (torch.cat 是合并数据)---按行合并\n",
    "trainfeatures = torch.cat((x1_train,x2_train), 0).type(torch.FloatTensor)\n",
    "trainlabels = torch.cat((y1[:7000], y2[:7000]), 0).type(torch.FloatTensor)\n",
    "#合并测试集\n",
    "# 注意 x, y 数据的数据形式一定要像下面一样 (torch.cat 是合并数据)---按行合并\n",
    "testfeatures = torch.cat((x1_test,x2_test), 0).type(torch.FloatTensor)\n",
    "testlabels = torch.cat((y1[7000:], y2[7000:]), 0).type(torch.FloatTensor)\n",
    "print(trainfeatures.shape,trainlabels.shape,testfeatures.shape,testlabels.shape)"
   ]
  },
  {
   "cell_type": "code",
   "execution_count": 3,
   "metadata": {},
   "outputs": [],
   "source": [
    "#读取数据\n",
    "batch_size = 50\n",
    "# 将训练数据的特征和标签组合\n",
    "dataset = Data.TensorDataset(trainfeatures, trainlabels)\n",
    "# 把 dataset 放入 DataLoader\n",
    "train_iter = Data.DataLoader(\n",
    "    dataset=dataset, # torch TensorDataset format\n",
    "    batch_size=batch_size, # mini batch size\n",
    "    shuffle=True, # 是否打乱数据 (训练集一般需要进行打乱)\n",
    "    num_workers=0, # 多线程来读数据， 注意在Windows下需要设置为0\n",
    ")\n",
    "# 将测试数据的特征和标签组合\n",
    "dataset = Data.TensorDataset(testfeatures, testlabels)\n",
    "# 把 dataset 放入 DataLoader\n",
    "test_iter = Data.DataLoader(\n",
    "    dataset=dataset, # torch TensorDataset format\n",
    "    batch_size=batch_size, # mini batch size\n",
    "    shuffle=True, # 是否打乱数据\n",
    "    num_workers=0, # 多线程来读数据， 注意在Windows下需要设置为0\n",
    ")"
   ]
  },
  {
   "cell_type": "code",
   "execution_count": 4,
   "metadata": {},
   "outputs": [],
   "source": [
    "#初始化参数\n",
    "num_hiddens,num_outputs = 256,1\n",
    "\n",
    "W1 = torch.tensor(np.random.normal(0, 0.01, (num_hiddens,num_inputs)), dtype=torch.float32)\n",
    "b1 = torch.zeros(1, dtype=torch.float32)\n",
    "W2 = torch.tensor(np.random.normal(0, 0.01, (num_outputs,num_hiddens)), dtype=torch.float32)\n",
    "b2 = torch.zeros(1, dtype=torch.float32)\n",
    "params =[W1,b1,W2,b2]\n",
    "for param in params:\n",
    "    param.requires_grad_(requires_grad=True)"
   ]
  },
  {
   "cell_type": "code",
   "execution_count": 5,
   "metadata": {},
   "outputs": [],
   "source": [
    "def relu(x):\n",
    "    x = torch.max(input=x,other=torch.tensor(0.0))\n",
    "    return x"
   ]
  },
  {
   "cell_type": "code",
   "execution_count": 6,
   "metadata": {},
   "outputs": [],
   "source": [
    "#定义模型\n",
    "def net(X):\n",
    "    X = X.view((-1,num_inputs))\n",
    "    H = relu(torch.matmul(X,W1.t())+b1)\n",
    "    return torch.matmul(H,W2.t())+b2"
   ]
  },
  {
   "cell_type": "code",
   "execution_count": 7,
   "metadata": {},
   "outputs": [],
   "source": [
    "#定义交叉熵损失函数\n",
    "loss = torch.nn.BCEWithLogitsLoss()"
   ]
  },
  {
   "cell_type": "code",
   "execution_count": 8,
   "metadata": {},
   "outputs": [],
   "source": [
    "#定义随机梯度下降法\n",
    "def SGD(paras,lr,batch_size):\n",
    "    for param in params:\n",
    "        param.data -= lr * param.grad/batch_size"
   ]
  },
  {
   "cell_type": "code",
   "execution_count": 9,
   "metadata": {},
   "outputs": [],
   "source": [
    "#定义模型训练函数\n",
    "def train(net,train_iter,test_iter,loss,num_epochs,batch_size,params=None,lr=None,optimizer=None):\n",
    "    train_ls = []\n",
    "    test_ls = []\n",
    "    for epoch in range(num_epochs): # 训练模型一共需要num_epochs个迭代周期\n",
    "        train_l_sum, train_acc_num,n = 0.0,0.0,0\n",
    "        # 在每一个迭代周期中，会使用训练数据集中所有样本一次\n",
    "        for X, y in train_iter: # x和y分别是小批量样本的特征和标签\n",
    "            y_hat = net(X)\n",
    "            l = loss(y_hat, y.view(-1,1)).sum() # l是有关小批量X和y的损失\n",
    "            #梯度清零\n",
    "            if optimizer is not None:\n",
    "                optimizer.zero_grad()\n",
    "            elif params is not None and params[0].grad is not None:\n",
    "                for param in params:\n",
    "                    param.grad.data.zero_()\n",
    "            l.backward() # 小批量的损失对模型参数求梯度\n",
    "            if optimizer is None:\n",
    "                SGD(params,lr,batch_size)\n",
    "            else:\n",
    "                optimizer.step()\n",
    "            #计算每个epoch的loss\n",
    "            train_l_sum += l.item()*y.shape[0]\n",
    "            #train_acc_num += (y_hat.argmax(dim=1)==y).sum().item()\n",
    "            n+= y.shape[0]\n",
    "        test_labels = testlabels.view(-1,1)\n",
    "        train_ls.append(train_l_sum/n)\n",
    "        test_ls.append(loss(net(testfeatures),test_labels).sum().item())\n",
    "        print('epoch %d, train_loss %.6f,test_loss %.6f'%(epoch+1, train_ls[epoch],test_ls[epoch]))\n",
    "    return train_ls,test_ls"
   ]
  },
  {
   "cell_type": "code",
   "execution_count": 10,
   "metadata": {},
   "outputs": [
    {
     "name": "stdout",
     "output_type": "stream",
     "text": [
      "epoch 1, train_loss 0.634805,test_loss 0.562258\n",
      "epoch 2, train_loss 0.486398,test_loss 0.408634\n",
      "epoch 3, train_loss 0.335810,test_loss 0.268100\n",
      "epoch 4, train_loss 0.215928,test_loss 0.170963\n",
      "epoch 5, train_loss 0.139644,test_loss 0.113196\n",
      "epoch 6, train_loss 0.094985,test_loss 0.079433\n",
      "epoch 7, train_loss 0.068437,test_loss 0.058848\n",
      "epoch 8, train_loss 0.051832,test_loss 0.045579\n",
      "epoch 9, train_loss 0.040859,test_loss 0.036568\n",
      "epoch 10, train_loss 0.033244,test_loss 0.030169\n",
      "epoch 11, train_loss 0.027737,test_loss 0.025451\n",
      "epoch 12, train_loss 0.023615,test_loss 0.021864\n",
      "epoch 13, train_loss 0.020440,test_loss 0.019065\n",
      "epoch 14, train_loss 0.017936,test_loss 0.016832\n",
      "epoch 15, train_loss 0.015919,test_loss 0.015018\n",
      "epoch 16, train_loss 0.014268,test_loss 0.013519\n",
      "epoch 17, train_loss 0.012894,test_loss 0.012265\n",
      "epoch 18, train_loss 0.011738,test_loss 0.011202\n",
      "epoch 19, train_loss 0.010753,test_loss 0.010291\n",
      "epoch 20, train_loss 0.009905,test_loss 0.009504\n",
      "epoch 21, train_loss 0.009169,test_loss 0.008818\n",
      "epoch 22, train_loss 0.008525,test_loss 0.008215\n",
      "epoch 23, train_loss 0.007957,test_loss 0.007682\n",
      "epoch 24, train_loss 0.007454,test_loss 0.007208\n",
      "epoch 25, train_loss 0.007005,test_loss 0.006784\n",
      "epoch 26, train_loss 0.006602,test_loss 0.006403\n",
      "epoch 27, train_loss 0.006239,test_loss 0.006058\n",
      "epoch 28, train_loss 0.005910,test_loss 0.005746\n",
      "epoch 29, train_loss 0.005611,test_loss 0.005461\n",
      "epoch 30, train_loss 0.005339,test_loss 0.005201\n",
      "epoch 31, train_loss 0.005089,test_loss 0.004962\n",
      "epoch 32, train_loss 0.004860,test_loss 0.004743\n",
      "epoch 33, train_loss 0.004649,test_loss 0.004540\n",
      "epoch 34, train_loss 0.004453,test_loss 0.004353\n",
      "epoch 35, train_loss 0.004273,test_loss 0.004179\n",
      "epoch 36, train_loss 0.004105,test_loss 0.004017\n",
      "epoch 37, train_loss 0.003948,test_loss 0.003866\n",
      "epoch 38, train_loss 0.003803,test_loss 0.003726\n",
      "epoch 39, train_loss 0.003666,test_loss 0.003594\n",
      "epoch 40, train_loss 0.003539,test_loss 0.003471\n",
      "epoch 41, train_loss 0.003419,test_loss 0.003355\n",
      "epoch 42, train_loss 0.003306,test_loss 0.003246\n",
      "epoch 43, train_loss 0.003200,test_loss 0.003143\n",
      "epoch 44, train_loss 0.003100,test_loss 0.003046\n",
      "epoch 45, train_loss 0.003006,test_loss 0.002954\n",
      "epoch 46, train_loss 0.002916,test_loss 0.002868\n",
      "epoch 47, train_loss 0.002832,test_loss 0.002785\n",
      "epoch 48, train_loss 0.002752,test_loss 0.002707\n",
      "epoch 49, train_loss 0.002675,test_loss 0.002633\n",
      "epoch 50, train_loss 0.002603,test_loss 0.002563\n"
     ]
    }
   ],
   "source": [
    "lr = 0.01\n",
    "num_epochs = 50\n",
    "train_loss,test_loss = train(net,train_iter,test_iter,loss,num_epochs,batch_size,params,lr)"
   ]
  },
  {
   "cell_type": "code",
   "execution_count": 11,
   "metadata": {},
   "outputs": [
    {
     "data": {
      "image/png": "[encoded data removed]",
      "text/plain": [
       "<Figure size 432x288 with 1 Axes>"
      ]
     },
     "metadata": {
      "needs_background": "light"
     },
     "output_type": "display_data"
    }
   ],
   "source": [
    "x = np.linspace(0,len(train_loss),len(train_loss))\n",
    "plt.plot(x,train_loss,label=\"train_loss\",linewidth=1.5)\n",
    "plt.plot(x,test_loss,label=\"test_loss\",linewidth=1.5)\n",
    "plt.xlabel(\"epoch\")\n",
    "plt.ylabel(\"loss\")\n",
    "plt.legend()\n",
    "plt.show()"
   ]
  },
  {
   "cell_type": "code",
   "execution_count": null,
   "metadata": {},
   "outputs": [],
   "source": []
  }
 ],
 "metadata": {
  "kernelspec": {
   "display_name": "Python 3",
   "language": "python",
   "name": "python3"
  },
  "language_info": {
   "codemirror_mode": {
    "name": "ipython",
    "version": 3
   },
   "file_extension": ".py",
   "mimetype": "text/x-python",
   "name": "python",
   "nbconvert_exporter": "python",
   "pygments_lexer": "ipython3",
   "version": "3.7.4"
  }
 },
 "nbformat": 4,
 "nbformat_minor": 5
}
