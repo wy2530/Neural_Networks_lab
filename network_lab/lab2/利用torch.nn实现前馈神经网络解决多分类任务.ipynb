{
 "cells": [
  {
   "cell_type": "code",
   "execution_count": 1,
   "metadata": {},
   "outputs": [],
   "source": [
    "import torch\n",
    "import numpy as np\n",
    "import random\n",
    "from IPython import display\n",
    "from matplotlib import pyplot as plt\n",
    "from torch import nn\n",
    "import torch.utils.data as Data\n",
    "import torch.optim as optim\n",
    "from torch.nn import init\n",
    "import torchvision\n",
    "import torchvision.transforms as transforms\n",
    "import os\n",
    "os.environ[\"KMP_DUPLICATE_LIB_OK\"]=\"TRUE\"  #防止jupyter崩溃"
   ]
  },
  {
   "cell_type": "code",
   "execution_count": 2,
   "metadata": {},
   "outputs": [
    {
     "name": "stderr",
     "output_type": "stream",
     "text": [
      "E:\\Anaconda\\lib\\site-packages\\torchvision\\datasets\\mnist.py:498: UserWarning: The given NumPy array is not writeable, and PyTorch does not support non-writeable tensors. This means you can write to the underlying (supposedly non-writeable) NumPy array using the tensor. You may want to copy the array to protect its data or make it writeable before converting it to a tensor. This type of warning will be suppressed for the rest of this program. (Triggered internally at  ..\\torch\\csrc\\utils\\tensor_numpy.cpp:180.)\n",
      "  return torch.from_numpy(parsed.astype(m[2], copy=False)).view(*s)\n"
     ]
    }
   ],
   "source": [
    "#下载MNIST手写数据集\n",
    "mnist_train = torchvision.datasets.MNIST(root='./Datasets/MNIST', train=True,\n",
    "download=True, transform=transforms.ToTensor())\n",
    "mnist_test = torchvision.datasets.MNIST(root='./Datasets/MNIST', train=False,\n",
    "download=True, transform=transforms.ToTensor())\n",
    "#读取数据\n",
    "batch_size = 32\n",
    "train_iter = torch.utils.data.DataLoader(mnist_train, batch_size=batch_size, shuffle=True,\n",
    "num_workers=0)\n",
    "test_iter = torch.utils.data.DataLoader(mnist_test, batch_size=batch_size, shuffle=False,\n",
    "num_workers=0)"
   ]
  },
  {
   "cell_type": "code",
   "execution_count": 3,
   "metadata": {},
   "outputs": [],
   "source": [
    "#实现FlattenLayer层\n",
    "class FlattenLayer(torch.nn.Module):\n",
    "    def __init__(self):\n",
    "         super(FlattenLayer, self).__init__()\n",
    "    def forward(self, x):\n",
    "        return x.view(x.shape[0],-1)"
   ]
  },
  {
   "cell_type": "code",
   "execution_count": 4,
   "metadata": {},
   "outputs": [],
   "source": [
    "#模型定义和参数初始化\n",
    "num_inputs,num_hiddens,num_outputs = 784,256,10\n",
    "net = nn.Sequential(\n",
    "        FlattenLayer(),\n",
    "        nn.Linear(num_inputs,num_hiddens),\n",
    "        nn.ReLU(),\n",
    "        nn.Linear(num_hiddens,num_outputs),\n",
    "        )\n",
    "\n",
    "for params in net.parameters():\n",
    "    init.normal_(params,mean=0,std=0.01)"
   ]
  },
  {
   "cell_type": "code",
   "execution_count": 5,
   "metadata": {},
   "outputs": [],
   "source": [
    "#训练次数和学习率\n",
    "num_epochs = 50\n",
    "lr = 0.01\n",
    "#定义交叉熵损失函数\n",
    "loss = torch.nn.CrossEntropyLoss()\n",
    "optimizer = torch.optim.SGD(net.parameters(),lr)"
   ]
  },
  {
   "cell_type": "code",
   "execution_count": 6,
   "metadata": {},
   "outputs": [],
   "source": [
    "#测试集loss\n",
    "def evaluate_loss(data_iter,net):\n",
    "    acc_sum,loss_sum,n = 0.0,0.0,0\n",
    "    for X,y in data_iter:\n",
    "        y_hat = net(X)\n",
    "        acc_sum += (y_hat.argmax(dim=1)==y).sum().item()\n",
    "        l = loss(y_hat,y) # l是有关小批量X和y的损失\n",
    "        loss_sum += l.sum().item()*y.shape[0]\n",
    "        n+=y.shape[0]\n",
    "    return acc_sum/n,loss_sum/n"
   ]
  },
  {
   "cell_type": "code",
   "execution_count": 7,
   "metadata": {},
   "outputs": [],
   "source": [
    "#定义模型训练函数\n",
    "def train(net,train_iter,test_iter,loss,num_epochs,batch_size,params=None,lr=None,optimizer=None):\n",
    "    train_ls = []\n",
    "    test_ls = []\n",
    "    for epoch in range(num_epochs): # 训练模型一共需要num_epochs个迭代周期\n",
    "        train_l_sum, train_acc_num,n = 0.0,0.0,0\n",
    "        # 在每一个迭代周期中，会使用训练数据集中所有样本一次\n",
    "        for X, y in train_iter: # x和y分别是小批量样本的特征和标签\n",
    "            y_hat = net(X)\n",
    "            l = loss(y_hat, y).sum() # l是有关小批量X和y的损失\n",
    "            #梯度清零\n",
    "            if optimizer is not None:\n",
    "                optimizer.zero_grad()\n",
    "            elif params is not None and params[0].grad is not None:\n",
    "                for param in params:\n",
    "                    param.grad.data.zero_()\n",
    "            l.backward() # 小批量的损失对模型参数求梯度\n",
    "            if optimizer is None:\n",
    "                SGD(params,lr)\n",
    "            else:\n",
    "                optimizer.step()\n",
    "            #计算每个epoch的loss\n",
    "            train_l_sum += l.item()*y.shape[0]\n",
    "            #计算训练样本的准确率\n",
    "            train_acc_num += (y_hat.argmax(dim=1)==y).sum().item()\n",
    "            #每一个epoch的所有样本数\n",
    "            n+= y.shape[0]\n",
    "        train_ls.append(train_l_sum/n)\n",
    "        test_acc,test_l = evaluate_loss(test_iter,net)\n",
    "        test_ls.append(test_l)\n",
    "        print('epoch %d, train_loss %.6f,test_loss %f,train_acc %.6f,test_acc %.6f'%(epoch+1, train_ls[epoch],test_ls[epoch],train_acc_num/n,test_acc))\n",
    "    return train_ls,test_ls"
   ]
  },
  {
   "cell_type": "code",
   "execution_count": 8,
   "metadata": {},
   "outputs": [
    {
     "name": "stdout",
     "output_type": "stream",
     "text": [
      "epoch 1, train_loss 1.169667,test_loss 0.478044,train_acc 0.721500,test_acc 0.874600\n",
      "epoch 2, train_loss 0.414722,test_loss 0.352032,train_acc 0.886917,test_acc 0.900000\n",
      "epoch 3, train_loss 0.341161,test_loss 0.305744,train_acc 0.903850,test_acc 0.913400\n",
      "epoch 4, train_loss 0.307177,test_loss 0.279704,train_acc 0.912633,test_acc 0.920200\n",
      "epoch 5, train_loss 0.282806,test_loss 0.261243,train_acc 0.918933,test_acc 0.927100\n",
      "epoch 6, train_loss 0.262820,test_loss 0.243037,train_acc 0.924933,test_acc 0.931400\n",
      "epoch 7, train_loss 0.245316,test_loss 0.230804,train_acc 0.930150,test_acc 0.935300\n",
      "epoch 8, train_loss 0.229941,test_loss 0.216493,train_acc 0.935217,test_acc 0.937900\n",
      "epoch 9, train_loss 0.215768,test_loss 0.205126,train_acc 0.939250,test_acc 0.940500\n",
      "epoch 10, train_loss 0.203074,test_loss 0.193243,train_acc 0.943267,test_acc 0.944200\n",
      "epoch 11, train_loss 0.192055,test_loss 0.183141,train_acc 0.946067,test_acc 0.945700\n",
      "epoch 12, train_loss 0.181596,test_loss 0.175391,train_acc 0.949000,test_acc 0.948300\n",
      "epoch 13, train_loss 0.172163,test_loss 0.165909,train_acc 0.951750,test_acc 0.951000\n",
      "epoch 14, train_loss 0.163473,test_loss 0.160595,train_acc 0.953983,test_acc 0.953600\n",
      "epoch 15, train_loss 0.155606,test_loss 0.151612,train_acc 0.955900,test_acc 0.955300\n",
      "epoch 16, train_loss 0.148287,test_loss 0.147366,train_acc 0.958150,test_acc 0.956900\n",
      "epoch 17, train_loss 0.141467,test_loss 0.141696,train_acc 0.960400,test_acc 0.957000\n",
      "epoch 18, train_loss 0.135238,test_loss 0.137079,train_acc 0.962233,test_acc 0.960100\n",
      "epoch 19, train_loss 0.129432,test_loss 0.131593,train_acc 0.963667,test_acc 0.961900\n",
      "epoch 20, train_loss 0.124279,test_loss 0.127049,train_acc 0.965500,test_acc 0.961900\n",
      "epoch 21, train_loss 0.119325,test_loss 0.123035,train_acc 0.967083,test_acc 0.963100\n",
      "epoch 22, train_loss 0.114575,test_loss 0.120446,train_acc 0.968433,test_acc 0.964600\n",
      "epoch 23, train_loss 0.110270,test_loss 0.115711,train_acc 0.969633,test_acc 0.964600\n",
      "epoch 24, train_loss 0.106319,test_loss 0.113020,train_acc 0.970917,test_acc 0.966500\n",
      "epoch 25, train_loss 0.102410,test_loss 0.111540,train_acc 0.972017,test_acc 0.966600\n",
      "epoch 26, train_loss 0.099045,test_loss 0.108248,train_acc 0.972883,test_acc 0.968500\n",
      "epoch 27, train_loss 0.095691,test_loss 0.104960,train_acc 0.974167,test_acc 0.969900\n",
      "epoch 28, train_loss 0.092505,test_loss 0.102888,train_acc 0.974667,test_acc 0.969400\n",
      "epoch 29, train_loss 0.089597,test_loss 0.100170,train_acc 0.975700,test_acc 0.970000\n",
      "epoch 30, train_loss 0.086683,test_loss 0.099517,train_acc 0.976633,test_acc 0.971700\n",
      "epoch 31, train_loss 0.084176,test_loss 0.097663,train_acc 0.977317,test_acc 0.970600\n",
      "epoch 32, train_loss 0.081608,test_loss 0.094622,train_acc 0.977717,test_acc 0.971800\n",
      "epoch 33, train_loss 0.079339,test_loss 0.092642,train_acc 0.978700,test_acc 0.973000\n",
      "epoch 34, train_loss 0.076972,test_loss 0.091670,train_acc 0.979400,test_acc 0.973600\n",
      "epoch 35, train_loss 0.074927,test_loss 0.089840,train_acc 0.979950,test_acc 0.973300\n",
      "epoch 36, train_loss 0.072781,test_loss 0.088543,train_acc 0.980467,test_acc 0.973600\n",
      "epoch 37, train_loss 0.070805,test_loss 0.087341,train_acc 0.981200,test_acc 0.974500\n",
      "epoch 38, train_loss 0.068994,test_loss 0.086888,train_acc 0.981650,test_acc 0.974700\n",
      "epoch 39, train_loss 0.067241,test_loss 0.085011,train_acc 0.981833,test_acc 0.974900\n",
      "epoch 40, train_loss 0.065461,test_loss 0.084075,train_acc 0.982433,test_acc 0.975500\n",
      "epoch 41, train_loss 0.063820,test_loss 0.082850,train_acc 0.983150,test_acc 0.975700\n",
      "epoch 42, train_loss 0.062254,test_loss 0.083354,train_acc 0.983700,test_acc 0.975800\n",
      "epoch 43, train_loss 0.060821,test_loss 0.080583,train_acc 0.983767,test_acc 0.976000\n",
      "epoch 44, train_loss 0.059292,test_loss 0.080867,train_acc 0.984217,test_acc 0.976600\n",
      "epoch 45, train_loss 0.057760,test_loss 0.079658,train_acc 0.984717,test_acc 0.976300\n",
      "epoch 46, train_loss 0.056478,test_loss 0.078621,train_acc 0.985250,test_acc 0.976500\n",
      "epoch 47, train_loss 0.055233,test_loss 0.079409,train_acc 0.985483,test_acc 0.975800\n",
      "epoch 48, train_loss 0.054053,test_loss 0.078529,train_acc 0.985933,test_acc 0.976700\n",
      "epoch 49, train_loss 0.052894,test_loss 0.076318,train_acc 0.986283,test_acc 0.977700\n",
      "epoch 50, train_loss 0.051613,test_loss 0.075926,train_acc 0.986833,test_acc 0.977400\n"
     ]
    }
   ],
   "source": [
    "train_loss,test_loss = train(net,train_iter,test_iter,loss,num_epochs,batch_size,net.parameters,lr,optimizer)"
   ]
  },
  {
   "cell_type": "code",
   "execution_count": 9,
   "metadata": {},
   "outputs": [
    {
     "data": {
      "image/png": "[encoded data removed]",
      "text/plain": [
       "<Figure size 432x288 with 1 Axes>"
      ]
     },
     "metadata": {
      "needs_background": "light"
     },
     "output_type": "display_data"
    }
   ],
   "source": [
    "x = np.linspace(0,len(train_loss),len(train_loss))\n",
    "plt.plot(x,train_loss,label=\"train_loss\",linewidth=1.5)\n",
    "plt.plot(x,test_loss,label=\"test_loss\",linewidth=1.5)\n",
    "plt.xlabel(\"epoch\")\n",
    "plt.ylabel(\"loss\")\n",
    "plt.legend()\n",
    "plt.show()"
   ]
  },
  {
   "cell_type": "code",
   "execution_count": null,
   "metadata": {},
   "outputs": [],
   "source": []
  }
 ],
 "metadata": {
  "kernelspec": {
   "display_name": "Python 3",
   "language": "python",
   "name": "python3"
  },
  "language_info": {
   "codemirror_mode": {
    "name": "ipython",
    "version": 3
   },
   "file_extension": ".py",
   "mimetype": "text/x-python",
   "name": "python",
   "nbconvert_exporter": "python",
   "pygments_lexer": "ipython3",
   "version": "3.7.4"
  }
 },
 "nbformat": 4,
 "nbformat_minor": 5
}
