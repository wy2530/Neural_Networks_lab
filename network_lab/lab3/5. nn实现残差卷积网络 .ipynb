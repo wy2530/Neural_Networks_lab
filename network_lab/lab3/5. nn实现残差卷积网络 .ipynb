{
 "cells": [
  {
   "cell_type": "code",
   "execution_count": 1,
   "metadata": {},
   "outputs": [],
   "source": [
    "import os\n",
    "os.environ[\"KMP_DUPLICATE_LIB_OK\"] = \"TRUE\""
   ]
  },
  {
   "cell_type": "code",
   "execution_count": 2,
   "metadata": {},
   "outputs": [],
   "source": [
    "import torch\n",
    "from torch import nn\n",
    "from torch.nn import  init\n",
    "from PIL import Image\n",
    "import matplotlib.pyplot as plt\n",
    "import numpy as np\n",
    "import torchvision\n",
    "import torchvision.transforms as transforms\n",
    "import torch.nn.functional as F \n",
    "import os"
   ]
  },
  {
   "cell_type": "markdown",
   "metadata": {},
   "source": [
    "### 读取图片文件"
   ]
  },
  {
   "cell_type": "code",
   "execution_count": 3,
   "metadata": {},
   "outputs": [],
   "source": [
    "def getFileList(dir, FileList,ext=None):\n",
    "    \"\"\"\n",
    "    获取文件夹及子文件夹中的文件列表\n",
    "    dir: 文件夹跟目录\n",
    "    ext:扩展名\n",
    "    返回:文件路径列表\n",
    "    \"\"\"\n",
    "    newDir=dir\n",
    "    if os.path.isfile(dir):  # os.path.isfile(dir)判断某一对象(需提供绝对路径)是否为文件\n",
    "        if ext is None:\n",
    "            FileList.append(dir) # 将文件添加到FileList中\n",
    "        else:\n",
    "            if ext in dir[-3:]:\n",
    "                FileList.append(dir)  # 去掉拓展名之后在添加到FileList中\n",
    "    elif os.path.isdir(dir): # os.path.isdir()：判断某一对象(需提供绝对路径)是否为目录\n",
    "        for s in os.listdir(dir):  # os.listdir()：返回一个列表，其中包含有指定路径下的目录和文件的名称\n",
    "            \"\"\"\n",
    "            有时系统中会出现一个desktop.ini的隐藏文件会被读入\n",
    "            \"\"\"\n",
    "            if s[-3:]==\"jpg\":\n",
    "                newDir=os.path.join(dir,s)  # 拼接路径\n",
    "                getFileList(newDir,FileList,ext)\n",
    "        return FileList"
   ]
  },
  {
   "cell_type": "code",
   "execution_count": 4,
   "metadata": {},
   "outputs": [
    {
     "name": "stdout",
     "output_type": "stream",
     "text": [
      "本次执行检索到 bus 218 张图像\n",
      "\n",
      "本次执行检索到 car 779 张图像\n",
      "\n",
      "本次执行检索到 truck 360 张图像\n",
      "\n"
     ]
    }
   ],
   "source": [
    "# 检索文件\n",
    "org_img_folder=r\"D:\\jupyter-notebook\\8-15 实验3\\dataset\"  # bus car truck\n",
    "\n",
    "total_imglist=[]\n",
    "for folder in os.listdir(org_img_folder):\n",
    "    new_org=os.path.join(org_img_folder,folder)\n",
    "    imgList = getFileList(new_org,[])\n",
    "    total_imglist.append(imgList)\n",
    "    print('本次执行检索到 '+ folder +\" \"+str(len(imgList))+' 张图像\\n')"
   ]
  },
  {
   "cell_type": "code",
   "execution_count": 5,
   "metadata": {},
   "outputs": [],
   "source": [
    "bus_imglist=total_imglist[0]\n",
    "car_imglist=total_imglist[1]\n",
    "truck_imglist=total_imglist[2]\n",
    "\n",
    "def tensor_list(imglist):\n",
    "    count=0\n",
    "    for array_img in imglist:\n",
    "        img=Image.open(array_img)\n",
    "        img=img.resize((64,64),Image.ANTIALIAS)\n",
    "        img=np.array(img)\n",
    "        img=np.expand_dims(img,0) # 从 100*100*3 变成 1*100*100*3\n",
    "        # 归一化\n",
    "        img=img/255 \n",
    "        #1*H*W*C    1*C*H*W   0 1 2 3 ==> 0 3  1 2  X轴用0表示，Y轴用1表示；Z轴用2来表示；\n",
    "        tensor_img=torch.tensor(np.transpose(img,(0,3,1,2)))\n",
    "        if count==0:\n",
    "            imglist=tensor_img\n",
    "        else:\n",
    "            imglist=torch.cat((imglist,tensor_img),0)\n",
    "        count+=1\n",
    "    return imglist"
   ]
  },
  {
   "cell_type": "markdown",
   "metadata": {},
   "source": [
    "### 划分数据集"
   ]
  },
  {
   "cell_type": "code",
   "execution_count": 6,
   "metadata": {},
   "outputs": [
    {
     "name": "stdout",
     "output_type": "stream",
     "text": [
      "torch.Size([152, 3, 64, 64])\n",
      "torch.Size([545, 3, 64, 64])\n",
      "torch.Size([251, 3, 64, 64])\n",
      "torch.Size([948, 3, 64, 64])\n"
     ]
    }
   ],
   "source": [
    "###训练集\n",
    "bus_tensor=tensor_list(bus_imglist)\n",
    "train_bus_tensor=bus_tensor[:int(bus_tensor.shape[0]*0.7)]\n",
    "\n",
    "\n",
    "car_tensor=tensor_list(car_imglist)\n",
    "train_car_tensor=car_tensor[:int(car_tensor.shape[0]*0.7)]\n",
    "\n",
    "truck_tensor=tensor_list(truck_imglist)\n",
    "train_truck_tensor=truck_tensor[:int(truck_tensor.shape[0]*0.7)]\n",
    "\n",
    "print(train_bus_tensor.shape) # 152 3 100 100\n",
    "print(train_car_tensor.shape) # 545 3 100 100\n",
    "print(train_truck_tensor.shape) # 251\n",
    "\n",
    "train_total_tensor=torch.cat((train_bus_tensor,train_car_tensor,train_truck_tensor),0)\n",
    "print(train_total_tensor.shape)"
   ]
  },
  {
   "cell_type": "code",
   "execution_count": 7,
   "metadata": {},
   "outputs": [
    {
     "name": "stdout",
     "output_type": "stream",
     "text": [
      "torch.Size([409, 3, 64, 64])\n"
     ]
    }
   ],
   "source": [
    "# 测试集\n",
    "test_bus_tensor=bus_tensor[int(bus_tensor.shape[0]*0.7):]\n",
    "test_car_tensor=car_tensor[int(car_tensor.shape[0]*0.7):]\n",
    "test_truck_tensor=truck_tensor[int(truck_tensor.shape[0]*0.7):]\n",
    "test_total_tensor=torch.cat((test_bus_tensor,test_car_tensor,test_truck_tensor),0)\n",
    "print(test_total_tensor.shape)"
   ]
  },
  {
   "cell_type": "markdown",
   "metadata": {},
   "source": [
    "### 给类别分组 0 1 2"
   ]
  },
  {
   "cell_type": "code",
   "execution_count": 8,
   "metadata": {},
   "outputs": [
    {
     "name": "stdout",
     "output_type": "stream",
     "text": [
      "torch.Size([948])\n",
      "torch.Size([409])\n"
     ]
    }
   ],
   "source": [
    "train_bus_labels=torch.zeros(train_bus_tensor.shape[0])  # bus 归为0类\n",
    "train_car_labels=torch.ones(train_car_tensor.shape[0])   # car 归为1类\n",
    "train_truck_labels=torch.ones(train_truck_tensor.shape[0])+1   # truck 归为2类\n",
    "\n",
    "train_total_labels=torch.cat((train_bus_labels,train_car_labels,train_truck_labels),0)\n",
    "print(train_total_labels.shape)\n",
    "\n",
    "\n",
    "test_bus_labels=torch.zeros(test_bus_tensor.shape[0])  # bus 归为0类\n",
    "test_car_labels=torch.ones(test_car_tensor.shape[0])   # car 归为1类\n",
    "test_truck_labels=torch.ones(test_truck_tensor.shape[0])+1   # truck 归为2类\n",
    "\n",
    "test_total_labels=torch.cat((test_bus_labels,test_car_labels,test_truck_labels),0)\n",
    "print(test_total_labels.shape)"
   ]
  },
  {
   "cell_type": "markdown",
   "metadata": {},
   "source": [
    "### 读取数据集"
   ]
  },
  {
   "cell_type": "code",
   "execution_count": 9,
   "metadata": {},
   "outputs": [],
   "source": [
    "import torch.utils.data as Data\n",
    "\n",
    "num_classes=3  # 3类\n",
    "epochs=30\n",
    "\n",
    "lr=0.01\n",
    "batch_size=30\n",
    "device=torch.device(\"cuda:0\") # 使用device\n",
    "\n",
    "# 将训练数据的特征和标签组合\n",
    "train_dataset = Data.TensorDataset(train_total_tensor, train_total_labels)\n",
    "# 把 dataset 放入 DataLoader\n",
    "train_iter = Data.DataLoader(\n",
    "    dataset=train_dataset, # torch TensorDataset format\n",
    "    batch_size=batch_size, # mini batch size\n",
    "    shuffle=True, # 是否打乱数据 (训练集一般需要进行打乱)\n",
    "    num_workers=0, # 多线程来读数据，注意在Windows下需要设置为0\n",
    ")\n",
    "\n",
    "# 将训练数据的特征和标签组合\n",
    "test_dataset = Data.TensorDataset(test_total_tensor, test_total_labels)\n",
    "# 把 dataset 放入 DataLoader\n",
    "test_iter = Data.DataLoader(\n",
    "    dataset=test_dataset, # torch TensorDataset format\n",
    "    batch_size=batch_size, # mini batch size\n",
    "    shuffle=True, # 是否打乱数据 (训练集一般需要进行打乱)\n",
    "    num_workers=0, # 多线程来读数据，注意在Windows下需要设置为0\n",
    ")"
   ]
  },
  {
   "cell_type": "markdown",
   "metadata": {},
   "source": [
    "### pytorch 实现残差"
   ]
  },
  {
   "cell_type": "markdown",
   "metadata": {},
   "source": [
    "### 残差块"
   ]
  },
  {
   "cell_type": "code",
   "execution_count": 10,
   "metadata": {},
   "outputs": [],
   "source": [
    "#默认3*3卷积下padding为1，则大小不会变化，如变化则是步长引起的。\n",
    "class ResidualBlock(nn.Module):\n",
    "    def __init__(self, in_channels, out_channels, size, stride=1, shortcut=True):\n",
    "        super(ResidualBlock, self).__init__()\n",
    "        #两层卷积层\n",
    "        #不同步长只有第一层卷积层不同\n",
    "        self.block1 = nn.Sequential(nn.Conv2d(in_channels , out_channels, size, stride, padding=1),\n",
    "                                    nn.BatchNorm2d(out_channels),\n",
    "                                    nn.ReLU(inplace=True),\n",
    "                                    nn.Conv2d(out_channels, out_channels, size, 1, padding=1),\n",
    "                                    nn.BatchNorm2d(out_channels))\n",
    "        self.shortcut = shortcut\n",
    "        #解决通道数变化以及步长不为1引起的图片大小的变化\n",
    "        self.block2 = nn.Sequential(nn.Conv2d(in_channels , out_channels, size, stride, 1),\n",
    "                                    nn.BatchNorm2d(out_channels))\n",
    "        self.relu = nn.ReLU(inplace=True)\n",
    "    def forward(self, input):\n",
    "        x = input\n",
    "        out = self.block1(x)\n",
    "        '''若输入输出维度相等直接相加，不相等改变输入的维度--包括大小和通道'''\n",
    "        if self.shortcut:\n",
    "            out = x + out\n",
    "        else:\n",
    "            out = out + self.block2(x)\n",
    "        out = self.relu(out)\n",
    "        return out"
   ]
  },
  {
   "cell_type": "markdown",
   "metadata": {},
   "source": [
    "### 残差网络"
   ]
  },
  {
   "cell_type": "code",
   "execution_count": 11,
   "metadata": {},
   "outputs": [],
   "source": [
    "#定义给定的残差结构\n",
    "class resnet(nn.Module):\n",
    "    def __init__(self):\n",
    "        super(resnet, self).__init__()\n",
    "        self.block = nn.Sequential(\n",
    "            nn.Conv2d(3, 64, 3, stride=1, padding=1),\n",
    "            nn.BatchNorm2d(64),\n",
    "            nn.ReLU()\n",
    "        )\n",
    "        #(H-K+2*P)/S + 1\n",
    "        #t表示2个相同的残差块,每个残差块两个卷积\n",
    "        self.d1 = self.make_layer(64, 64, 3, stride=1, t=2)\n",
    "        self.d2 = self.make_layer(64, 128, 3, stride=2, t=2)\n",
    "        self.d3 = self.make_layer(128, 256, 3, stride=2, t=2)\n",
    "        self.d4 = self.make_layer(256, 512, 3, stride=2, t=2)\n",
    "\n",
    "        self.avgp = nn.AvgPool2d(8)\n",
    "        self.fc = nn.Linear(512, 3)\n",
    "\n",
    "    def make_layer(self, in_channels, out_channels, ksize, stride, t):\n",
    "        layers = []\n",
    "        for i in range(0, t):\n",
    "            if i == 0 and in_channels !=out_channels:\n",
    "                layers.append(ResidualBlock(in_channels, out_channels, ksize, stride, None))\n",
    "            else:\n",
    "                layers.append(ResidualBlock(out_channels, out_channels, ksize, 1, True))\n",
    "        return nn.Sequential(*layers)\n",
    "\n",
    "    def forward(self, input):\n",
    "        #(H-K+2*P)/S+1\n",
    "        #(64-3+2*1)/1+1=64 输出64*64*64\n",
    "        x = self.block(input)  # 输出维度 64 * 64 * 64    C * H * W\n",
    "        #输入64进d1\n",
    "        #makelayer k=3 s=1 t=2  in=64 out=64 相等 始终走else 传参true 只走block1\n",
    "        #开始for循环\n",
    "        #residual始终走else k=3 s=1 true\n",
    "        #(64-3+2*1)/1+1=64 执行4次为64\n",
    "        x = self.d1(x)  # 输出维度 64 * 64 * 64\n",
    "        \n",
    "        #输入64进d2 makelayer in=64 out=128 k=3 s=2 t=2 in和out不相等 分i=0和i=1两条路\n",
    "        #for i =0 执行if  residualblock传参64  128  k=3  s=2  shortout为None\n",
    "        #首先执行block1 两次卷积  第一次  k=3  s=2  p=1 第二次 k=3 s=1 p=1\n",
    "        #(64-3+2*1)/2+1=32.5=32   (32-3+2*1)/1+1=32\n",
    "        #由于shortout为none 所以还需要执行block2卷积k=3 s=2 p=1\n",
    "        #(64-3+2*1)/2+1=32 然后返回32维+32维 还是32维\n",
    "        \n",
    "        #for i=1  执行else  k=3 s=1 shortout为True\n",
    "        #执行block1  两次卷积 第一次 k=3 s=1 p=1  第二次 k=3  s=1 p=1\n",
    "        #(32-3+2*1)/1+1=32 两次执行 还是32\n",
    "        x = self.d2(x)  # i=0 步长为2，输出维度128 * 32 * 32\n",
    "        x = self.d3(x)  # i=0 步长为2，输出维度256 * 16 * 16 \n",
    "        x = self.d4(x)  # i=0 步长为2，输出维度512 * 8 * 8\n",
    "        x = self.avgp(x)  # 512 * 1 * 1\n",
    "        #将张量out从shape batchx512x1x1 变为 batch x512\n",
    "        x = x.squeeze()\n",
    "        output = self.fc(x)\n",
    "        return output"
   ]
  },
  {
   "cell_type": "markdown",
   "metadata": {},
   "source": [
    "### 初始化+损失函数+优化器"
   ]
  },
  {
   "cell_type": "code",
   "execution_count": 13,
   "metadata": {},
   "outputs": [],
   "source": [
    "## 模型定义\n",
    "net=resnet().to(device)\n",
    "## loss函数\n",
    "criterion=nn.CrossEntropyLoss()\n",
    "## 使用Adam优化器\n",
    "optimizer=torch.optim.Adam(net.parameters(),lr=lr)"
   ]
  },
  {
   "cell_type": "markdown",
   "metadata": {},
   "source": [
    "### 测试训练函数"
   ]
  },
  {
   "cell_type": "code",
   "execution_count": 14,
   "metadata": {},
   "outputs": [],
   "source": [
    "def train_epoch(net,data_loader,device):\n",
    "    net.train()  ## 当前模式为训练模式\n",
    "    train_batch_num=len(data_loader)  # 记录有多少个batch\n",
    "    total_loss=0 # 记录loss\n",
    "    correct=0    # 记录共有多个个样本被正确分类\n",
    "    sample_num=0  # 记录样本总数\n",
    "    \n",
    "    ### 遍历每一个batch进行训练\n",
    "    for batch_idx,(data,target)  in enumerate(data_loader):\n",
    "        # 将图片放入指定的device中\n",
    "        data=data.to(device).float()\n",
    "        # 将图片标签放入指定的device中\n",
    "        target=target.to(device).long()\n",
    "        #将当前梯度清0\n",
    "        optimizer.zero_grad()\n",
    "        # 使用模型计算结果\n",
    "        output=net(data)\n",
    "        # 计算损失\n",
    "        loss=criterion(output,target)\n",
    "        # 进行反向传播\n",
    "        loss.backward()\n",
    "        optimizer.step()\n",
    "        #累加Loss\n",
    "        total_loss+=loss.item()\n",
    "        # 找出每个样本最大的idx，即代表类别\n",
    "        prediction=torch.argmax(output,1)\n",
    "        # 统计正确的类别数量\n",
    "        correct+=(prediction==target).sum().item()\n",
    "        # 累加当前样本总数\n",
    "        sample_num+=len(prediction)\n",
    "    # 计算平均的loss与准确率\n",
    "    loss=total_loss/train_batch_num\n",
    "    acc=correct/sample_num\n",
    "    return loss,acc"
   ]
  },
  {
   "cell_type": "markdown",
   "metadata": {},
   "source": [
    "### 测试函数"
   ]
  },
  {
   "cell_type": "code",
   "execution_count": 15,
   "metadata": {},
   "outputs": [],
   "source": [
    "def test_epoch(net,data_loader,device):\n",
    "    net.eval()  ## 当前模式为训练模式\n",
    "    test_batch_num=len(data_loader)  # 记录有多少个batch\n",
    "    total_loss=0 # 记录loss\n",
    "    correct=0    # 记录共有多个个样本被正确分类\n",
    "    sample_num=0  # 记录样本总数\n",
    "    \n",
    "    \n",
    "    with torch.no_grad():\n",
    "        ### 遍历每一个batch进行训练\n",
    "        for batch_idx,(data,target)  in enumerate(data_loader):\n",
    "            # 将图片放入指定的device中\n",
    "            data=data.to(device).float()\n",
    "            # 将图片标签放入指定的device中\n",
    "            target=target.to(device).long()\n",
    "            \n",
    "            output=net(data)\n",
    "            # 计算损失\n",
    "            loss=criterion(output,target)\n",
    "        \n",
    "            #累加Loss\n",
    "            total_loss+=loss.item()\n",
    "            # 找出每个样本最大的idx，即代表类别\n",
    "            prediction=torch.argmax(output,1)\n",
    "            # 统计正确的类别数量\n",
    "            correct+=(prediction==target).sum().item()\n",
    "            # 累加当前样本总数\n",
    "            sample_num+=len(prediction)\n",
    "    # 计算平均的loss与准确率\n",
    "    loss=total_loss/test_batch_num\n",
    "    acc=correct/sample_num\n",
    "    return loss,acc"
   ]
  },
  {
   "cell_type": "markdown",
   "metadata": {},
   "source": [
    "### 开始训练"
   ]
  },
  {
   "cell_type": "code",
   "execution_count": 16,
   "metadata": {
    "scrolled": true
   },
   "outputs": [
    {
     "name": "stdout",
     "output_type": "stream",
     "text": [
      "epoch:0  train_loss:0.9407  train_acc:0.740506329113924  test_loss:7.7793  test_acc:0.29095354523227385\n",
      "epoch:1  train_loss:0.4042  train_acc:0.8744725738396625  test_loss:2.1335  test_acc:0.4767726161369193\n",
      "epoch:2  train_loss:0.3670  train_acc:0.8829113924050633  test_loss:3.9585  test_acc:0.4352078239608802\n",
      "epoch:3  train_loss:0.3574  train_acc:0.8786919831223629  test_loss:2.2192  test_acc:0.5281173594132029\n",
      "epoch:4  train_loss:0.2489  train_acc:0.9103375527426161  test_loss:4.3303  test_acc:0.4547677261613692\n",
      "epoch:5  train_loss:0.2271  train_acc:0.9135021097046413  test_loss:3.1918  test_acc:0.3374083129584352\n",
      "epoch:6  train_loss:0.2101  train_acc:0.9166666666666666  test_loss:3.0218  test_acc:0.4352078239608802\n",
      "epoch:7  train_loss:0.2472  train_acc:0.9040084388185654  test_loss:1.1389  test_acc:0.6503667481662592\n",
      "epoch:8  train_loss:0.2346  train_acc:0.9156118143459916  test_loss:2.6467  test_acc:0.4474327628361858\n",
      "epoch:9  train_loss:0.1965  train_acc:0.9261603375527426  test_loss:2.0898  test_acc:0.5158924205378973\n",
      "epoch:10  train_loss:0.2288  train_acc:0.919831223628692  test_loss:2.7999  test_acc:0.29584352078239606\n",
      "epoch:11  train_loss:0.1650  train_acc:0.939873417721519  test_loss:2.3603  test_acc:0.4841075794621027\n",
      "epoch:12  train_loss:0.1736  train_acc:0.939873417721519  test_loss:1.5471  test_acc:0.49877750611246946\n",
      "epoch:13  train_loss:0.1932  train_acc:0.9208860759493671  test_loss:2.1666  test_acc:0.4621026894865526\n",
      "epoch:14  train_loss:0.1634  train_acc:0.939873417721519  test_loss:3.9078  test_acc:0.4572127139364303\n",
      "epoch:15  train_loss:0.1377  train_acc:0.9472573839662447  test_loss:2.1431  test_acc:0.48655256723716384\n",
      "epoch:16  train_loss:0.1322  train_acc:0.9514767932489452  test_loss:5.3210  test_acc:0.44987775061124696\n",
      "epoch:17  train_loss:0.1365  train_acc:0.9472573839662447  test_loss:3.0535  test_acc:0.4792176039119804\n",
      "epoch:18  train_loss:0.1275  train_acc:0.9556962025316456  test_loss:3.1379  test_acc:0.41075794621026895\n",
      "epoch:19  train_loss:0.1369  train_acc:0.9483122362869199  test_loss:3.5931  test_acc:0.45965770171149145\n",
      "epoch:20  train_loss:0.1453  train_acc:0.9409282700421941  test_loss:5.2402  test_acc:0.42053789731051344\n",
      "epoch:21  train_loss:0.1621  train_acc:0.9377637130801688  test_loss:3.8670  test_acc:0.46454767726161367\n",
      "epoch:22  train_loss:0.1200  train_acc:0.959915611814346  test_loss:3.2326  test_acc:0.4938875305623472\n",
      "epoch:23  train_loss:0.0964  train_acc:0.9672995780590717  test_loss:3.1116  test_acc:0.5012224938875306\n",
      "epoch:24  train_loss:0.0715  train_acc:0.9736286919831224  test_loss:3.3161  test_acc:0.44254278728606355\n",
      "epoch:25  train_loss:0.0901  train_acc:0.9588607594936709  test_loss:3.9909  test_acc:0.45232273838630804\n",
      "epoch:26  train_loss:0.0851  train_acc:0.9620253164556962  test_loss:2.4395  test_acc:0.6039119804400978\n",
      "epoch:27  train_loss:0.0975  train_acc:0.9630801687763713  test_loss:2.7909  test_acc:0.5990220048899756\n",
      "epoch:28  train_loss:0.1174  train_acc:0.9641350210970464  test_loss:4.6475  test_acc:0.4743276283618582\n",
      "epoch:29  train_loss:0.0832  train_acc:0.9630801687763713  test_loss:4.6980  test_acc:0.45965770171149145\n"
     ]
    }
   ],
   "source": [
    "train_loss_list=[]\n",
    "train_acc_list=[]\n",
    "test_loss_list=[]\n",
    "test_acc_list=[]\n",
    "\n",
    "# 进行训练\n",
    "for epoch in range(epochs):\n",
    "    # 在训练集上训练\n",
    "    train_loss,train_acc=train_epoch(net,train_iter,device=device)\n",
    "    # 在测试集上验证\n",
    "    test_loss,test_acc=test_epoch(net,test_iter,device=device)\n",
    "    \n",
    "    ## 保存各个指标\n",
    "    train_loss_list.append(train_loss)\n",
    "    train_acc_list.append(train_acc)\n",
    "   \n",
    "    test_loss_list.append(test_loss)\n",
    "    test_acc_list.append(test_acc)\n",
    "    \n",
    "    print(f\"epoch:{epoch}  train_loss:{train_loss:.4f}  \"\n",
    "          f\"train_acc:{train_acc}  \"\n",
    "          f\"test_loss:{test_loss:.4f}  test_acc:{test_acc}\")"
   ]
  },
  {
   "cell_type": "code",
   "execution_count": 19,
   "metadata": {
    "scrolled": true
   },
   "outputs": [
    {
     "data": {
      "image/png": "[encoded data removed]",
      "text/plain": [
       "<Figure size 432x288 with 1 Axes>"
      ]
     },
     "metadata": {
      "needs_background": "light"
     },
     "output_type": "display_data"
    }
   ],
   "source": [
    "x = np.linspace(0,len(train_loss_list),len(train_loss_list))\n",
    "plt.plot(x,train_loss_list,label=\"train_loss\",linewidth=1.5)\n",
    "plt.plot(x,test_loss_list,label=\"test_loss\",linewidth=1.5)\n",
    "plt.xlabel(\"epoch\")\n",
    "plt.ylabel(\"loss\")\n",
    "plt.legend()\n",
    "plt.savefig(\"new_loss.jpg\")\n",
    "plt.show()"
   ]
  },
  {
   "cell_type": "code",
   "execution_count": 20,
   "metadata": {},
   "outputs": [
    {
     "data": {
      "image/png": "[encoded data removed]",
      "text/plain": [
       "<Figure size 432x288 with 1 Axes>"
      ]
     },
     "metadata": {
      "needs_background": "light"
     },
     "output_type": "display_data"
    }
   ],
   "source": [
    "x = np.linspace(0,len(train_acc_list),len(train_acc_list))\n",
    "plt.plot(x,train_acc_list,label=\"train_acc\",linewidth=1.5)\n",
    "plt.plot(x,test_acc_list,label=\"test_acc\",linewidth=1.5)\n",
    "plt.xlabel(\"epoch\")\n",
    "plt.ylabel(\"acc\")\n",
    "plt.legend()\n",
    "plt.savefig(\"new_acc.jpg\")\n",
    "plt.show()"
   ]
  },
  {
   "cell_type": "code",
   "execution_count": null,
   "metadata": {},
   "outputs": [],
   "source": []
  },
  {
   "cell_type": "code",
   "execution_count": null,
   "metadata": {},
   "outputs": [],
   "source": []
  }
 ],
 "metadata": {
  "kernelspec": {
   "display_name": "Python 3.7.4 64-bit ('pytorch': conda)",
   "language": "python",
   "name": "python37464bitpytorchconda0a4842cb181546f0bba59e31fe04aadb"
  },
  "language_info": {
   "codemirror_mode": {
    "name": "ipython",
    "version": 3
   },
   "file_extension": ".py",
   "mimetype": "text/x-python",
   "name": "python",
   "nbconvert_exporter": "python",
   "pygments_lexer": "ipython3",
   "version": "3.7.9"
  }
 },
 "nbformat": 4,
 "nbformat_minor": 4
}
