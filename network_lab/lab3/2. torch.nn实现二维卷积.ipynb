{
 "cells": [
  {
   "cell_type": "code",
   "execution_count": 1,
   "metadata": {},
   "outputs": [],
   "source": [
    "import os\n",
    "os.environ[\"KMP_DUPLICATE_LIB_OK\"] = \"TRUE\""
   ]
  },
  {
   "cell_type": "code",
   "execution_count": 2,
   "metadata": {},
   "outputs": [],
   "source": [
    "import torch\n",
    "from torch import nn\n",
    "from torch.nn import  init\n",
    "from PIL import Image\n",
    "import matplotlib.pyplot as plt\n",
    "import numpy as np\n",
    "import torchvision\n",
    "import torchvision.transforms as transforms\n",
    "import torch.nn.functional as F \n",
    "import os"
   ]
  },
  {
   "cell_type": "markdown",
   "metadata": {},
   "source": [
    "### 读取图片文件"
   ]
  },
  {
   "cell_type": "code",
   "execution_count": 3,
   "metadata": {},
   "outputs": [],
   "source": [
    "def getFileList(dir, FileList,ext=None):\n",
    "    \"\"\"\n",
    "    获取文件夹及子文件夹中的文件列表\n",
    "    dir: 文件夹跟目录\n",
    "    ext:扩展名\n",
    "    返回:文件路径列表\n",
    "    \"\"\"\n",
    "    newDir=dir\n",
    "    if os.path.isfile(dir):  # os.path.isfile(dir)判断某一对象(需提供绝对路径)是否为文件\n",
    "        if ext is None:\n",
    "            FileList.append(dir) # 将文件添加到FileList中\n",
    "        else:\n",
    "            if ext in dir[-3:]:\n",
    "                FileList.append(dir)  # 去掉拓展名之后在添加到FileList中\n",
    "    elif os.path.isdir(dir): # os.path.isdir()：判断某一对象(需提供绝对路径)是否为目录\n",
    "        for s in os.listdir(dir):  # os.listdir()：返回一个列表，其中包含有指定路径下的目录和文件的名称\n",
    "            \"\"\"\n",
    "            有时系统中会出现一个desktop.ini的隐藏文件会被读入\n",
    "            \"\"\"\n",
    "            if s[-3:]==\"jpg\":\n",
    "                newDir=os.path.join(dir,s)  # 拼接路径\n",
    "                getFileList(newDir,FileList,ext)\n",
    "        return FileList"
   ]
  },
  {
   "cell_type": "code",
   "execution_count": 4,
   "metadata": {},
   "outputs": [
    {
     "name": "stdout",
     "output_type": "stream",
     "text": [
      "本次执行检索到 bus 218 张图像\n",
      "\n",
      "本次执行检索到 car 779 张图像\n",
      "\n",
      "本次执行检索到 truck 360 张图像\n",
      "\n"
     ]
    }
   ],
   "source": [
    "# 检索文件\n",
    "org_img_folder=r\"D:\\jupyter-notebook\\8-15 实验3\\dataset\"  # bus car truck\n",
    "\n",
    "total_imglist=[]\n",
    "for folder in os.listdir(org_img_folder):\n",
    "    new_org=os.path.join(org_img_folder,folder)\n",
    "    imgList = getFileList(new_org,[])\n",
    "    total_imglist.append(imgList)\n",
    "    print('本次执行检索到 '+ folder +\" \"+str(len(imgList))+' 张图像\\n')"
   ]
  },
  {
   "cell_type": "code",
   "execution_count": 5,
   "metadata": {},
   "outputs": [],
   "source": [
    "bus_imglist=total_imglist[0]\n",
    "car_imglist=total_imglist[1]\n",
    "truck_imglist=total_imglist[2]\n",
    "\n",
    "def tensor_list(imglist):\n",
    "    count=0\n",
    "    for array_img in imglist:\n",
    "        img=Image.open(array_img)\n",
    "        img=img.resize((64,64),Image.ANTIALIAS)\n",
    "        img=np.array(img)\n",
    "        img=np.expand_dims(img,0) # 从 100*100*3 变成 1*100*100*3\n",
    "        # 归一化\n",
    "        img=img/255 \n",
    "        #1*H*W*C    1*C*H*W   0 1 2 3 ==> 0 3  1 2  X轴用0表示，Y轴用1表示；Z轴用2来表示；\n",
    "        tensor_img=torch.tensor(np.transpose(img,(0,3,1,2)))\n",
    "        if count==0:\n",
    "            imglist=tensor_img\n",
    "        else:\n",
    "            imglist=torch.cat((imglist,tensor_img),0)\n",
    "        count+=1\n",
    "    return imglist"
   ]
  },
  {
   "cell_type": "markdown",
   "metadata": {},
   "source": [
    "### 划分数据集"
   ]
  },
  {
   "cell_type": "code",
   "execution_count": 6,
   "metadata": {},
   "outputs": [
    {
     "name": "stdout",
     "output_type": "stream",
     "text": [
      "torch.Size([152, 3, 64, 64])\n",
      "torch.Size([545, 3, 64, 64])\n",
      "torch.Size([251, 3, 64, 64])\n",
      "torch.Size([948, 3, 64, 64])\n"
     ]
    }
   ],
   "source": [
    "###训练集\n",
    "bus_tensor=tensor_list(bus_imglist)\n",
    "train_bus_tensor=bus_tensor[:int(bus_tensor.shape[0]*0.7)]\n",
    "\n",
    "\n",
    "car_tensor=tensor_list(car_imglist)\n",
    "train_car_tensor=car_tensor[:int(car_tensor.shape[0]*0.7)]\n",
    "\n",
    "truck_tensor=tensor_list(truck_imglist)\n",
    "train_truck_tensor=truck_tensor[:int(truck_tensor.shape[0]*0.7)]\n",
    "\n",
    "print(train_bus_tensor.shape) # 152 3 100 100\n",
    "print(train_car_tensor.shape) # 545 3 100 100\n",
    "print(train_truck_tensor.shape) # 251\n",
    "\n",
    "train_total_tensor=torch.cat((train_bus_tensor,train_car_tensor,train_truck_tensor),0)\n",
    "print(train_total_tensor.shape)"
   ]
  },
  {
   "cell_type": "code",
   "execution_count": 7,
   "metadata": {},
   "outputs": [
    {
     "name": "stdout",
     "output_type": "stream",
     "text": [
      "torch.Size([409, 3, 64, 64])\n"
     ]
    }
   ],
   "source": [
    "# 测试集\n",
    "test_bus_tensor=bus_tensor[int(bus_tensor.shape[0]*0.7):]\n",
    "test_car_tensor=car_tensor[int(car_tensor.shape[0]*0.7):]\n",
    "test_truck_tensor=truck_tensor[int(truck_tensor.shape[0]*0.7):]\n",
    "test_total_tensor=torch.cat((test_bus_tensor,test_car_tensor,test_truck_tensor),0)\n",
    "print(test_total_tensor.shape)"
   ]
  },
  {
   "cell_type": "markdown",
   "metadata": {},
   "source": [
    "### 给类别分组 0 1 2"
   ]
  },
  {
   "cell_type": "code",
   "execution_count": 8,
   "metadata": {},
   "outputs": [
    {
     "name": "stdout",
     "output_type": "stream",
     "text": [
      "torch.Size([948])\n",
      "torch.Size([409])\n"
     ]
    }
   ],
   "source": [
    "train_bus_labels=torch.zeros(train_bus_tensor.shape[0])  # bus 归为0类\n",
    "train_car_labels=torch.ones(train_car_tensor.shape[0])   # car 归为1类\n",
    "train_truck_labels=torch.ones(train_truck_tensor.shape[0])+1   # truck 归为2类\n",
    "\n",
    "train_total_labels=torch.cat((train_bus_labels,train_car_labels,train_truck_labels),0)\n",
    "print(train_total_labels.shape)\n",
    "\n",
    "\n",
    "test_bus_labels=torch.zeros(test_bus_tensor.shape[0])  # bus 归为0类\n",
    "test_car_labels=torch.ones(test_car_tensor.shape[0])   # car 归为1类\n",
    "test_truck_labels=torch.ones(test_truck_tensor.shape[0])+1   # truck 归为2类\n",
    "\n",
    "test_total_labels=torch.cat((test_bus_labels,test_car_labels,test_truck_labels),0)\n",
    "print(test_total_labels.shape)"
   ]
  },
  {
   "cell_type": "markdown",
   "metadata": {},
   "source": [
    "### 读取数据集"
   ]
  },
  {
   "cell_type": "code",
   "execution_count": 9,
   "metadata": {},
   "outputs": [],
   "source": [
    "import torch.utils.data as Data\n",
    "\n",
    "num_classes=3  # 3类\n",
    "epochs=30\n",
    "\n",
    "batch_size=30\n",
    "device=torch.device(\"cuda:0\") # 使用device\n",
    "\n",
    "# 将训练数据的特征和标签组合\n",
    "train_dataset = Data.TensorDataset(train_total_tensor, train_total_labels)\n",
    "# 把 dataset 放入 DataLoader\n",
    "train_iter = Data.DataLoader(\n",
    "    dataset=train_dataset, # torch TensorDataset format\n",
    "    batch_size=batch_size, # mini batch size\n",
    "    shuffle=True, # 是否打乱数据 (训练集一般需要进行打乱)\n",
    "    num_workers=0, # 多线程来读数据，注意在Windows下需要设置为0\n",
    ")\n",
    "\n",
    "# 将训练数据的特征和标签组合\n",
    "test_dataset = Data.TensorDataset(test_total_tensor, test_total_labels)\n",
    "# 把 dataset 放入 DataLoader\n",
    "test_iter = Data.DataLoader(\n",
    "    dataset=test_dataset, # torch TensorDataset format\n",
    "    batch_size=batch_size, # mini batch size\n",
    "    shuffle=True, # 是否打乱数据 (训练集一般需要进行打乱)\n",
    "    num_workers=0, # 多线程来读数据，注意在Windows下需要设置为0\n",
    ")"
   ]
  },
  {
   "cell_type": "markdown",
   "metadata": {},
   "source": [
    "### pytorch 实现卷积"
   ]
  },
  {
   "cell_type": "code",
   "execution_count": 10,
   "metadata": {},
   "outputs": [],
   "source": [
    "class ConvModule(nn.Module):\n",
    "    def __init__(self):\n",
    "        super(ConvModule,self).__init__()\n",
    "        ## 定义一个三层卷积\n",
    "        self.conv=nn.Sequential(\n",
    "            ## 第一层  (64-11+2*2)/2+1=29\n",
    "            nn.Conv2d(in_channels=3,out_channels=32,kernel_size=11,stride=2,padding=2),\n",
    "            nn.BatchNorm2d(32),  # 输出通道是32,因此归一化也是32个\n",
    "            nn.ReLU(inplace=True),  # 是否将计算得到的值直接覆盖之前的值\n",
    "            ## 第二层 (29-5+4)/2+1=15\n",
    "            nn.Conv2d(in_channels=32,out_channels=64,kernel_size=5,stride=2,padding=2),\n",
    "            nn.BatchNorm2d(64),  \n",
    "            nn.ReLU(inplace=True), \n",
    "            ## 第三层 (15-5+4)/2+1=8\n",
    "            nn.Conv2d(in_channels=64,out_channels=128,kernel_size=5,stride=2,padding=2),\n",
    "            nn.BatchNorm2d(128),  \n",
    "            nn.ReLU(inplace=True) \n",
    "        )\n",
    "        ### 输出层\n",
    "        self.fc=nn.Sequential(\n",
    "            nn.Dropout(0.5),\n",
    "            nn.Linear(128,num_classes),\n",
    "            nn.Dropout(0.5)\n",
    "        )\n",
    "    \n",
    "    def forward(self,X):\n",
    "        ## 图片经过了三次卷积之后，输出shape(batch_size,C_out,H,W)\n",
    "        out=self.conv(X)\n",
    "        ## 使用平均池化层 64==>29==>15===>8\n",
    "        out=F.avg_pool2d(out,8)   # 经过三层卷积后，原始图片大小由64变为8\n",
    "        ## \n",
    "        out=out.squeeze()\n",
    "        # 全连接层，输出维度为3类\n",
    "        out=self.fc(out)\n",
    "        return out"
   ]
  },
  {
   "cell_type": "markdown",
   "metadata": {},
   "source": [
    "### 初始化+损失函数+优化器"
   ]
  },
  {
   "cell_type": "code",
   "execution_count": 11,
   "metadata": {},
   "outputs": [],
   "source": [
    "## 模型定义\n",
    "net=ConvModule().to(device)\n",
    "## loss函数\n",
    "criterion=nn.CrossEntropyLoss()\n",
    "## 使用Adam优化器\n",
    "lr=0.001  # lr=0.01\n",
    "optimizer=torch.optim.Adam(net.parameters(),lr=lr)"
   ]
  },
  {
   "cell_type": "markdown",
   "metadata": {},
   "source": [
    "### 测试训练函数"
   ]
  },
  {
   "cell_type": "code",
   "execution_count": 12,
   "metadata": {},
   "outputs": [],
   "source": [
    "def train_epoch(net,data_loader,device):\n",
    "    net.train()  ## 当前模式为训练模式\n",
    "    train_batch_num=len(data_loader)  # 记录有多少个batch\n",
    "    total_loss=0 # 记录loss\n",
    "    correct=0    # 记录共有多个个样本被正确分类\n",
    "    sample_num=0  # 记录样本总数\n",
    "    \n",
    "    ### 遍历每一个batch进行训练\n",
    "    for batch_idx,(data,target)  in enumerate(data_loader):\n",
    "        # 将图片放入指定的device中\n",
    "        data=data.to(device).float()\n",
    "        # 将图片标签放入指定的device中\n",
    "        target=target.to(device).long()\n",
    "        #将当前梯度清0\n",
    "        optimizer.zero_grad()\n",
    "        # 使用模型计算结果\n",
    "        output=net(data)\n",
    "        # 计算损失\n",
    "        loss=criterion(output,target)\n",
    "        # 进行反向传播\n",
    "        loss.backward()\n",
    "        optimizer.step()\n",
    "        #累加Loss\n",
    "        total_loss+=loss.item()\n",
    "        # 找出每个样本最大的idx，即代表类别\n",
    "        prediction=torch.argmax(output,1)\n",
    "        # 统计正确的类别数量\n",
    "        correct+=(prediction==target).sum().item()\n",
    "        # 累加当前样本总数\n",
    "        sample_num+=len(prediction)\n",
    "    # 计算平均的loss与准确率\n",
    "    loss=total_loss/train_batch_num\n",
    "    acc=correct/sample_num\n",
    "    return loss,acc"
   ]
  },
  {
   "cell_type": "markdown",
   "metadata": {},
   "source": [
    "### 测试函数"
   ]
  },
  {
   "cell_type": "code",
   "execution_count": 13,
   "metadata": {},
   "outputs": [],
   "source": [
    "def test_epoch(net,data_loader,device):\n",
    "    net.eval()  ## 当前模式为训练模式\n",
    "    test_batch_num=len(data_loader)  # 记录有多少个batch\n",
    "    total_loss=0 # 记录loss\n",
    "    correct=0    # 记录共有多个个样本被正确分类\n",
    "    sample_num=0  # 记录样本总数\n",
    "    \n",
    "    \n",
    "    with torch.no_grad():\n",
    "        ### 遍历每一个batch进行训练\n",
    "        for batch_idx,(data,target)  in enumerate(data_loader):\n",
    "            # 将图片放入指定的device中\n",
    "            data=data.to(device).float()\n",
    "            # 将图片标签放入指定的device中\n",
    "            target=target.to(device).long()\n",
    "            \n",
    "            output=net(data)\n",
    "            # 计算损失\n",
    "            loss=criterion(output,target)\n",
    "        \n",
    "            #累加Loss\n",
    "            total_loss+=loss.item()\n",
    "            # 找出每个样本最大的idx，即代表类别\n",
    "            prediction=torch.argmax(output,1)\n",
    "            # 统计正确的类别数量\n",
    "            correct+=(prediction==target).sum().item()\n",
    "            # 累加当前样本总数\n",
    "            sample_num+=len(prediction)\n",
    "    # 计算平均的loss与准确率\n",
    "    loss=total_loss/test_batch_num\n",
    "    acc=correct/sample_num\n",
    "    return loss,acc"
   ]
  },
  {
   "cell_type": "markdown",
   "metadata": {},
   "source": [
    "### 开始训练"
   ]
  },
  {
   "cell_type": "code",
   "execution_count": 14,
   "metadata": {},
   "outputs": [
    {
     "name": "stdout",
     "output_type": "stream",
     "text": [
      "epoch:0  train_loss:0.7610  train_acc:0.5917721518987342  test_loss:1.8176  test_acc:0.33251833740831294\n",
      "epoch:1  train_loss:0.5657  train_acc:0.6867088607594937  test_loss:1.1688  test_acc:0.4449877750611247\n",
      "epoch:2  train_loss:0.5382  train_acc:0.689873417721519  test_loss:1.1898  test_acc:0.3643031784841076\n",
      "epoch:3  train_loss:0.5432  train_acc:0.6656118143459916  test_loss:0.8409  test_acc:0.6039119804400978\n",
      "epoch:4  train_loss:0.4858  train_acc:0.6983122362869199  test_loss:1.3540  test_acc:0.4547677261613692\n",
      "epoch:5  train_loss:0.4412  train_acc:0.7151898734177216  test_loss:2.2467  test_acc:0.44254278728606355\n",
      "epoch:6  train_loss:0.4693  train_acc:0.7162447257383966  test_loss:1.4124  test_acc:0.4718826405867971\n",
      "epoch:7  train_loss:0.5362  train_acc:0.6740506329113924  test_loss:1.0017  test_acc:0.5281173594132029\n",
      "epoch:8  train_loss:0.4708  train_acc:0.7046413502109705  test_loss:2.0241  test_acc:0.43765281173594134\n",
      "epoch:9  train_loss:0.4497  train_acc:0.7141350210970464  test_loss:1.6053  test_acc:0.4156479217603912\n",
      "epoch:10  train_loss:0.4391  train_acc:0.7331223628691983  test_loss:1.1162  test_acc:0.5012224938875306\n",
      "epoch:11  train_loss:0.4720  train_acc:0.6888185654008439  test_loss:2.5674  test_acc:0.3422982885085575\n",
      "epoch:12  train_loss:0.4498  train_acc:0.7046413502109705  test_loss:1.5662  test_acc:0.46943765281173594\n",
      "epoch:13  train_loss:0.4353  train_acc:0.709915611814346  test_loss:1.7237  test_acc:0.44254278728606355\n",
      "epoch:14  train_loss:0.4287  train_acc:0.7225738396624473  test_loss:1.8035  test_acc:0.44254278728606355\n",
      "epoch:15  train_loss:0.4331  train_acc:0.7088607594936709  test_loss:1.2710  test_acc:0.48655256723716384\n",
      "epoch:16  train_loss:0.4166  train_acc:0.729957805907173  test_loss:2.2868  test_acc:0.4718826405867971\n",
      "epoch:17  train_loss:0.3918  train_acc:0.7341772151898734  test_loss:1.8758  test_acc:0.43276283618581907\n",
      "epoch:18  train_loss:0.3951  train_acc:0.7362869198312236  test_loss:1.4444  test_acc:0.46943765281173594\n",
      "epoch:19  train_loss:0.4154  train_acc:0.70042194092827  test_loss:1.9351  test_acc:0.46454767726161367\n",
      "epoch:20  train_loss:0.3897  train_acc:0.7236286919831224  test_loss:2.4704  test_acc:0.39364303178484106\n",
      "epoch:21  train_loss:0.3569  train_acc:0.7668776371308017  test_loss:3.3953  test_acc:0.293398533007335\n",
      "epoch:22  train_loss:0.4143  train_acc:0.7130801687763713  test_loss:1.2614  test_acc:0.5012224938875306\n",
      "epoch:23  train_loss:0.3943  train_acc:0.7531645569620253  test_loss:2.3314  test_acc:0.3569682151589242\n",
      "epoch:24  train_loss:0.3970  train_acc:0.7257383966244726  test_loss:1.8843  test_acc:0.4792176039119804\n",
      "epoch:25  train_loss:0.3869  train_acc:0.7215189873417721  test_loss:1.3020  test_acc:0.5256723716381418\n",
      "epoch:26  train_loss:0.3734  train_acc:0.75  test_loss:1.1770  test_acc:0.5476772616136919\n",
      "epoch:27  train_loss:0.3942  train_acc:0.7246835443037974  test_loss:1.6733  test_acc:0.49877750611246946\n",
      "epoch:28  train_loss:0.3822  train_acc:0.7289029535864979  test_loss:0.9611  test_acc:0.5965770171149144\n",
      "epoch:29  train_loss:0.3596  train_acc:0.739451476793249  test_loss:1.9150  test_acc:0.4938875305623472\n"
     ]
    }
   ],
   "source": [
    "train_loss_list=[]\n",
    "train_acc_list=[]\n",
    "test_loss_list=[]\n",
    "test_acc_list=[]\n",
    "\n",
    "# 进行训练\n",
    "for epoch in range(epochs):\n",
    "    # 在训练集上训练\n",
    "    train_loss,train_acc=train_epoch(net,train_iter,device=device)\n",
    "    # 在测试集上验证\n",
    "    test_loss,test_acc=test_epoch(net,test_iter,device=device)\n",
    "    \n",
    "    ## 保存各个指标\n",
    "    train_loss_list.append(train_loss)\n",
    "    train_acc_list.append(train_acc)\n",
    "   \n",
    "    test_loss_list.append(test_loss)\n",
    "    test_acc_list.append(test_acc)\n",
    "    \n",
    "    print(f\"epoch:{epoch}  train_loss:{train_loss:.4f}  \"\n",
    "          f\"train_acc:{train_acc}  \"\n",
    "          f\"test_loss:{test_loss:.4f}  test_acc:{test_acc}\")"
   ]
  },
  {
   "cell_type": "code",
   "execution_count": 16,
   "metadata": {},
   "outputs": [
    {
     "data": {
      "image/png": "[encoded data removed]",
      "text/plain": [
       "<Figure size 432x288 with 1 Axes>"
      ]
     },
     "metadata": {
      "needs_background": "light"
     },
     "output_type": "display_data"
    }
   ],
   "source": [
    "x = np.linspace(0,len(train_loss_list),len(train_loss_list))\n",
    "plt.plot(x,train_loss_list,label=\"train_loss\",linewidth=1.5)\n",
    "plt.plot(x,test_loss_list,label=\"test_loss\",linewidth=1.5)\n",
    "plt.xlabel(\"epoch\")\n",
    "plt.ylabel(\"loss\")\n",
    "plt.legend()\n",
    "plt.savefig(\"conv2d_bt_loss.jpg\")\n",
    "plt.show()"
   ]
  },
  {
   "cell_type": "code",
   "execution_count": 17,
   "metadata": {},
   "outputs": [
    {
     "data": {
      "image/png": "[encoded data removed]",
      "text/plain": [
       "<Figure size 432x288 with 1 Axes>"
      ]
     },
     "metadata": {
      "needs_background": "light"
     },
     "output_type": "display_data"
    }
   ],
   "source": [
    "x = np.linspace(0,len(train_acc_list),len(train_acc_list))\n",
    "plt.plot(x,train_acc_list,label=\"train_acc\",linewidth=1.5)\n",
    "plt.plot(x,test_acc_list,label=\"test_acc\",linewidth=1.5)\n",
    "plt.xlabel(\"epoch\")\n",
    "plt.ylabel(\"acc\")\n",
    "plt.legend()\n",
    "plt.savefig(\"conv2d_bt_acc.jpg\")\n",
    "plt.show()"
   ]
  },
  {
   "cell_type": "code",
   "execution_count": null,
   "metadata": {},
   "outputs": [],
   "source": []
  }
 ],
 "metadata": {
  "kernelspec": {
   "display_name": "Python 3.7.4 64-bit ('pytorch': conda)",
   "language": "python",
   "name": "python37464bitpytorchconda0a4842cb181546f0bba59e31fe04aadb"
  },
  "language_info": {
   "codemirror_mode": {
    "name": "ipython",
    "version": 3
   },
   "file_extension": ".py",
   "mimetype": "text/x-python",
   "name": "python",
   "nbconvert_exporter": "python",
   "pygments_lexer": "ipython3",
   "version": "3.7.9"
  }
 },
 "nbformat": 4,
 "nbformat_minor": 4
}
