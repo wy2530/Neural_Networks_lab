{
 "cells": [
  {
   "cell_type": "markdown",
   "metadata": {},
   "source": [
    "# softmax回归从零开始实现"
   ]
  },
  {
   "cell_type": "code",
   "execution_count": 1,
   "metadata": {
    "ExecuteTime": {
     "end_time": "2020-07-02T04:48:49.484212Z",
     "start_time": "2020-07-02T04:48:49.475421Z"
    }
   },
   "outputs": [],
   "source": [
    "import torch\n",
    "import torchvision\n",
    "import torchvision.transforms as transforms\n",
    "import numpy as np\n",
    "from IPython import display\n",
    "from matplotlib import pyplot as plt\n",
    "import random"
   ]
  },
  {
   "cell_type": "markdown",
   "metadata": {},
   "source": [
    "## 1 获取和读取数据"
   ]
  },
  {
   "cell_type": "code",
   "execution_count": 2,
   "metadata": {
    "ExecuteTime": {
     "end_time": "2020-07-02T04:48:52.048474Z",
     "start_time": "2020-07-02T04:48:52.034766Z"
    }
   },
   "outputs": [
    {
     "name": "stderr",
     "output_type": "stream",
     "text": [
      "D:\\Anaconda3\\lib\\site-packages\\torchvision\\datasets\\mnist.py:498: UserWarning: The given NumPy array is not writeable, and PyTorch does not support non-writeable tensors. This means you can write to the underlying (supposedly non-writeable) NumPy array using the tensor. You may want to copy the array to protect its data or make it writeable before converting it to a tensor. This type of warning will be suppressed for the rest of this program. (Triggered internally at  ..\\torch\\csrc\\utils\\tensor_numpy.cpp:180.)\n",
      "  return torch.from_numpy(parsed.astype(m[2], copy=False)).view(*s)\n"
     ]
    }
   ],
   "source": [
    "#构建多分类Fashion-minst数据集\n",
    "mnist_train = torchvision.datasets.FashionMNIST(root='~/Datasets/FashionMNIST', train=True,\n",
    "download=True, transform=transforms.ToTensor())\n",
    "mnist_test = torchvision.datasets.FashionMNIST(root='~/Datasets/FashionMNIST', train=False,\n",
    "download=True, transform=transforms.ToTensor())\n",
    "batch_size = 256\n",
    "train_iter = torch.utils.data.DataLoader(mnist_train, batch_size=batch_size, shuffle=True,\n",
    "num_workers=0)\n",
    "test_iter = torch.utils.data.DataLoader(mnist_test, batch_size=batch_size, shuffle=False,\n",
    "num_workers=0)"
   ]
  },
  {
   "cell_type": "code",
   "execution_count": null,
   "metadata": {
    "ExecuteTime": {
     "end_time": "2020-07-02T03:36:10.427627Z",
     "start_time": "2020-07-02T03:36:10.422244Z"
    }
   },
   "outputs": [],
   "source": []
  },
  {
   "cell_type": "code",
   "execution_count": null,
   "metadata": {
    "ExecuteTime": {
     "end_time": "2020-07-02T03:42:31.312402Z",
     "start_time": "2020-07-02T03:42:30.667083Z"
    }
   },
   "outputs": [],
   "source": []
  },
  {
   "cell_type": "markdown",
   "metadata": {},
   "source": [
    "## 2 初始化模型参数"
   ]
  },
  {
   "cell_type": "code",
   "execution_count": 3,
   "metadata": {
    "ExecuteTime": {
     "end_time": "2020-07-02T04:48:57.298725Z",
     "start_time": "2020-07-02T04:48:57.290435Z"
    }
   },
   "outputs": [
    {
     "data": {
      "text/plain": [
       "tensor([0., 0., 0., 0., 0., 0., 0., 0., 0., 0.], requires_grad=True)"
      ]
     },
     "execution_count": 3,
     "metadata": {},
     "output_type": "execute_result"
    }
   ],
   "source": [
    "#初始化参数w，b\n",
    "# 输入与输出\n",
    "num_inputs = 784\n",
    "num_outputs = 10\n",
    "\n",
    "W = torch.tensor(np.random.normal(0,0.01,(num_inputs,num_outputs)),dtype=torch.float)\n",
    "b = torch.zeros(num_outputs,dtype = torch.float)\n",
    "#开启梯度track\n",
    "W.requires_grad_(requires_grad = True)\n",
    "b.requires_grad_(requires_grad = True)"
   ]
  },
  {
   "cell_type": "code",
   "execution_count": null,
   "metadata": {
    "ExecuteTime": {
     "end_time": "2020-07-02T04:48:57.965306Z",
     "start_time": "2020-07-02T04:48:57.955626Z"
    }
   },
   "outputs": [],
   "source": []
  },
  {
   "cell_type": "markdown",
   "metadata": {},
   "source": [
    "## 3 实现softmax运算"
   ]
  },
  {
   "cell_type": "code",
   "execution_count": 4,
   "metadata": {
    "ExecuteTime": {
     "end_time": "2020-07-02T04:49:14.106915Z",
     "start_time": "2020-07-02T04:49:14.101609Z"
    }
   },
   "outputs": [],
   "source": [
    "#定义softmax函数\n",
    "def softmax(X):\n",
    "    X_exp = X.exp()\n",
    "    partition = X_exp.sum(dim = 1, keepdim=True)\n",
    "    return X_exp / partition\n"
   ]
  },
  {
   "cell_type": "code",
   "execution_count": null,
   "metadata": {
    "ExecuteTime": {
     "end_time": "2020-07-02T04:49:14.635371Z",
     "start_time": "2020-07-02T04:49:14.627793Z"
    }
   },
   "outputs": [],
   "source": []
  },
  {
   "cell_type": "markdown",
   "metadata": {},
   "source": [
    "## 4 定义模型"
   ]
  },
  {
   "cell_type": "code",
   "execution_count": 5,
   "metadata": {
    "ExecuteTime": {
     "end_time": "2020-07-02T04:49:19.831978Z",
     "start_time": "2020-07-02T04:49:19.825974Z"
    }
   },
   "outputs": [],
   "source": [
    "#手动实现定义模型\n",
    "def net(X):\n",
    "    #torch.mm  矩阵相乘  view（）改变矩阵维度为1行 num_input列\n",
    "    f_x = torch.mm(X.view((-1,num_inputs)),W) + b\n",
    "    return softmax(f_x)"
   ]
  },
  {
   "cell_type": "markdown",
   "metadata": {},
   "source": [
    "## 5 定义损失函数"
   ]
  },
  {
   "cell_type": "code",
   "execution_count": 6,
   "metadata": {
    "ExecuteTime": {
     "end_time": "2020-07-02T04:49:22.499971Z",
     "start_time": "2020-07-02T04:49:22.460561Z"
    }
   },
   "outputs": [],
   "source": [
    "#手动实现交叉熵损失函数\n",
    "def cross_entropy(y_hat, y):\n",
    "    #1按行取\n",
    "    return -torch.log(y_hat.gather(1, y.view(-1,1)))\n"
   ]
  },
  {
   "cell_type": "code",
   "execution_count": null,
   "metadata": {
    "ExecuteTime": {
     "end_time": "2020-07-02T04:49:22.548504Z",
     "start_time": "2020-07-02T04:49:22.544796Z"
    }
   },
   "outputs": [],
   "source": []
  },
  {
   "cell_type": "markdown",
   "metadata": {},
   "source": [
    "## 6 定义优化算法"
   ]
  },
  {
   "cell_type": "code",
   "execution_count": 7,
   "metadata": {
    "ExecuteTime": {
     "end_time": "2020-07-02T04:49:22.972437Z",
     "start_time": "2020-07-02T04:49:22.967911Z"
    }
   },
   "outputs": [],
   "source": [
    "#优化函数\n",
    "def sgd(params, lr, batch_size):\n",
    "    for param in params:\n",
    "        param.data -= lr * param.grad / batch_size # 注意这里更改param时用的param.data\n"
   ]
  },
  {
   "cell_type": "markdown",
   "metadata": {},
   "source": [
    "## 7 计算分类准确率"
   ]
  },
  {
   "cell_type": "code",
   "execution_count": 8,
   "metadata": {
    "ExecuteTime": {
     "end_time": "2020-07-02T04:49:25.077303Z",
     "start_time": "2020-07-02T04:49:25.071548Z"
    }
   },
   "outputs": [],
   "source": [
    "def evaluate_accuracy(data_iter,net):\n",
    "    acc_sum,n = 0.0,0\n",
    "    for X,y in data_iter:\n",
    "        #print(len(X)) 小批量数据集 每个X中有 256个图像\n",
    "        #print((net(X).argmax(dim=1)==y).float().sum().item())\n",
    "       acc_sum += (net(X).argmax(dim=1)==y).float().sum().item()\n",
    "       n+=y.shape[0]\n",
    "    return acc_sum/n"
   ]
  },
  {
   "cell_type": "code",
   "execution_count": null,
   "metadata": {
    "ExecuteTime": {
     "end_time": "2020-07-02T04:49:25.724639Z",
     "start_time": "2020-07-02T04:49:25.718931Z"
    }
   },
   "outputs": [],
   "source": []
  },
  {
   "cell_type": "code",
   "execution_count": null,
   "metadata": {
    "ExecuteTime": {
     "end_time": "2020-07-02T04:49:26.125928Z",
     "start_time": "2020-07-02T04:49:26.119115Z"
    }
   },
   "outputs": [],
   "source": []
  },
  {
   "cell_type": "code",
   "execution_count": null,
   "metadata": {
    "ExecuteTime": {
     "end_time": "2020-07-02T04:49:27.377909Z",
     "start_time": "2020-07-02T04:49:26.637661Z"
    }
   },
   "outputs": [],
   "source": []
  },
  {
   "cell_type": "markdown",
   "metadata": {},
   "source": [
    "## 8 训练模型"
   ]
  },
  {
   "cell_type": "code",
   "execution_count": 9,
   "metadata": {
    "ExecuteTime": {
     "end_time": "2020-07-02T04:50:32.003132Z",
     "start_time": "2020-07-02T04:50:02.011402Z"
    }
   },
   "outputs": [],
   "source": [
    "def train(net, train_iter,test_iter,loss,num_epochs,batch_size,params=None,lr=None,optimizer = None):\n",
    "    for epoch in range(num_epochs):\n",
    "        #模型训练次数 num_epochs次\n",
    "        train_l_num, train_acc_num,n = 0.0,0.0,0\n",
    "        for X,y in train_iter:\n",
    "            #X 为小批量256个图像 1*28*28 y为标签\n",
    "            # 计算X softmax下的值   与损失函数值\n",
    "            y_hat = net(X)\n",
    "            l = loss(y_hat,y).sum()\n",
    "            l.backward()\n",
    "            sgd([W, b], lr, batch_size) # 使用小批量随机梯度下降迭代模型参数\n",
    "            W.grad.data.zero_() # 梯度清零\n",
    "            b.grad.data.zero_()\n",
    "            #计算每个epoch的loss\n",
    "            train_l_num += l.item()\n",
    "            #计算训练样本的准确率\n",
    "            train_acc_num += (y_hat.argmax(dim=1)==y).sum().item()\n",
    "            #每一个epoch的所有样本数\n",
    "            n+= y.shape[0]\n",
    "        #计算测试样本的准确率\n",
    "        test_acc = evaluate_accuracy(test_iter,net)\n",
    "        print('epoch %d, loss %.4f,train_acc %.3f,test_acc %.3f'%(epoch+1,train_l_num/n, train_acc_num/n, test_acc))\n"
   ]
  },
  {
   "cell_type": "markdown",
   "metadata": {},
   "source": [
    "## 9 预测"
   ]
  },
  {
   "cell_type": "code",
   "execution_count": 10,
   "metadata": {
    "ExecuteTime": {
     "end_time": "2020-07-02T03:48:16.209960Z",
     "start_time": "2020-07-02T03:48:16.198517Z"
    }
   },
   "outputs": [
    {
     "name": "stdout",
     "output_type": "stream",
     "text": [
      "epoch 1, loss 0.7818,train_acc 0.752,test_acc 0.794\n",
      "epoch 2, loss 0.5694,train_acc 0.813,test_acc 0.812\n",
      "epoch 3, loss 0.5249,train_acc 0.826,test_acc 0.819\n",
      "epoch 4, loss 0.5014,train_acc 0.833,test_acc 0.824\n",
      "epoch 5, loss 0.4849,train_acc 0.837,test_acc 0.826\n",
      "epoch 6, loss 0.4744,train_acc 0.841,test_acc 0.830\n",
      "epoch 7, loss 0.4653,train_acc 0.843,test_acc 0.827\n",
      "epoch 8, loss 0.4578,train_acc 0.845,test_acc 0.828\n",
      "epoch 9, loss 0.4525,train_acc 0.847,test_acc 0.833\n",
      "epoch 10, loss 0.4476,train_acc 0.848,test_acc 0.835\n",
      "epoch 11, loss 0.4430,train_acc 0.850,test_acc 0.837\n",
      "epoch 12, loss 0.4389,train_acc 0.850,test_acc 0.835\n",
      "epoch 13, loss 0.4365,train_acc 0.852,test_acc 0.834\n",
      "epoch 14, loss 0.4331,train_acc 0.853,test_acc 0.836\n",
      "epoch 15, loss 0.4306,train_acc 0.853,test_acc 0.839\n",
      "epoch 16, loss 0.4281,train_acc 0.854,test_acc 0.838\n",
      "epoch 17, loss 0.4265,train_acc 0.854,test_acc 0.838\n",
      "epoch 18, loss 0.4237,train_acc 0.855,test_acc 0.839\n",
      "epoch 19, loss 0.4220,train_acc 0.856,test_acc 0.839\n",
      "epoch 20, loss 0.4200,train_acc 0.855,test_acc 0.840\n",
      "epoch 21, loss 0.4194,train_acc 0.857,test_acc 0.835\n",
      "epoch 22, loss 0.4170,train_acc 0.857,test_acc 0.840\n",
      "epoch 23, loss 0.4163,train_acc 0.857,test_acc 0.840\n",
      "epoch 24, loss 0.4151,train_acc 0.858,test_acc 0.842\n",
      "epoch 25, loss 0.4128,train_acc 0.858,test_acc 0.842\n",
      "epoch 26, loss 0.4112,train_acc 0.860,test_acc 0.841\n",
      "epoch 27, loss 0.4102,train_acc 0.860,test_acc 0.842\n",
      "epoch 28, loss 0.4095,train_acc 0.859,test_acc 0.839\n",
      "epoch 29, loss 0.4086,train_acc 0.860,test_acc 0.844\n",
      "epoch 30, loss 0.4082,train_acc 0.860,test_acc 0.844\n"
     ]
    }
   ],
   "source": [
    "num_epochs ,lr = 30,0.1\n",
    "train(net, train_iter, test_iter, cross_entropy, num_epochs,batch_size, [W, b], lr)\n"
   ]
  },
  {
   "cell_type": "code",
   "execution_count": null,
   "metadata": {
    "ExecuteTime": {
     "end_time": "2020-07-02T03:48:39.145977Z",
     "start_time": "2020-07-02T03:48:37.545560Z"
    }
   },
   "outputs": [],
   "source": []
  },
  {
   "cell_type": "code",
   "execution_count": null,
   "metadata": {},
   "outputs": [],
   "source": []
  }
 ],
 "metadata": {
  "kernelspec": {
   "display_name": "Python 3",
   "language": "python",
   "name": "python3"
  },
  "language_info": {
   "codemirror_mode": {
    "name": "ipython",
    "version": 3
   },
   "file_extension": ".py",
   "mimetype": "text/x-python",
   "name": "python",
   "nbconvert_exporter": "python",
   "pygments_lexer": "ipython3",
   "version": "3.7.4"
  },
  "toc": {
   "base_numbering": 1,
   "nav_menu": {},
   "number_sections": false,
   "sideBar": true,
   "skip_h1_title": true,
   "title_cell": "Table of Contents",
   "title_sidebar": "Contents",
   "toc_cell": false,
   "toc_position": {},
   "toc_section_display": true,
   "toc_window_display": false
  },
  "varInspector": {
   "cols": {
    "lenName": 16,
    "lenType": 16,
    "lenVar": 40
   },
   "kernels_config": {
    "python": {
     "delete_cmd_postfix": "",
     "delete_cmd_prefix": "del ",
     "library": "var_list.py",
     "varRefreshCmd": "print(var_dic_list())"
    },
    "r": {
     "delete_cmd_postfix": ") ",
     "delete_cmd_prefix": "rm(",
     "library": "var_list.r",
     "varRefreshCmd": "cat(var_dic_list()) "
    }
   },
   "types_to_exclude": [
    "module",
    "function",
    "builtin_function_or_method",
    "instance",
    "_Feature"
   ],
   "window_display": false
  }
 },
 "nbformat": 4,
 "nbformat_minor": 2
}
