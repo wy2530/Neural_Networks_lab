{
 "cells": [
  {
   "cell_type": "markdown",
   "metadata": {},
   "source": [
    "# Pytorch基本操作考察"
   ]
  },
  {
   "cell_type": "code",
   "execution_count": 2,
   "metadata": {
    "ExecuteTime": {
     "end_time": "2020-07-02T05:20:38.431069Z",
     "start_time": "2020-07-02T05:20:37.854361Z"
    }
   },
   "outputs": [],
   "source": [
    "import torch"
   ]
  },
  {
   "cell_type": "markdown",
   "metadata": {},
   "source": [
    "## 基本操作实验1\n",
    "使用 𝐓𝐞𝐧𝐬𝐨𝐫 初始化一个 𝟏×𝟑 的矩阵 𝑴 和一个 𝟐×𝟏 的矩阵 𝑵，对两矩阵进行减法操作（要求实现三种不同的形式），给出结果并分析三种方式的不同（如果出现报错，分析报错的原因），同时需要指出在计算过程中发生了什么\n",
    "\n",
    "计算过程中发生了什么？\\\n",
    "广播操作\n",
    "\n",
    "使用第三种减法操作会报错，因为是原地操作，当进行广播后，计算结果和原矩阵的形状不同，所以会报错"
   ]
  },
  {
   "cell_type": "code",
   "execution_count": 3,
   "metadata": {
    "ExecuteTime": {
     "end_time": "2020-07-02T06:22:01.887387Z",
     "start_time": "2020-07-02T06:22:01.861428Z"
    }
   },
   "outputs": [
    {
     "name": "stdout",
     "output_type": "stream",
     "text": [
      "tensor([[0.8688, 0.1230, 0.0368]])\n",
      "tensor([[0.4914],\n",
      "        [0.8077]])\n",
      "tensor([[1.3602, 0.6144, 0.5282],\n",
      "        [1.6765, 0.9307, 0.8445]])\n",
      "tensor([[1.3602, 0.6144, 0.5282],\n",
      "        [1.6765, 0.9307, 0.8445]])\n"
     ]
    }
   ],
   "source": [
    "M=torch.rand(1,3)\n",
    "N=torch.rand(2,1)\n",
    "print(M)\n",
    "print(N)\n",
    "#加法形式1\n",
    "print(M+N)\n",
    "#加法形式2\n",
    "print(torch.add(M,N))"
   ]
  },
  {
   "cell_type": "code",
   "execution_count": 4,
   "metadata": {
    "ExecuteTime": {
     "end_time": "2020-07-02T06:25:23.391846Z",
     "start_time": "2020-07-02T06:25:23.215604Z"
    }
   },
   "outputs": [
    {
     "ename": "RuntimeError",
     "evalue": "output with shape [2, 1] doesn't match the broadcast shape [2, 3]",
     "output_type": "error",
     "traceback": [
      "\u001b[1;31m---------------------------------------------------------------------------\u001b[0m",
      "\u001b[1;31mRuntimeError\u001b[0m                              Traceback (most recent call last)",
      "\u001b[1;32m<ipython-input-4-992d43c73ab8>\u001b[0m in \u001b[0;36m<module>\u001b[1;34m\u001b[0m\n\u001b[0;32m      1\u001b[0m \u001b[1;31m#加法形式3\u001b[0m\u001b[1;33m\u001b[0m\u001b[1;33m\u001b[0m\u001b[1;33m\u001b[0m\u001b[0m\n\u001b[1;32m----> 2\u001b[1;33m \u001b[0mN\u001b[0m\u001b[1;33m.\u001b[0m\u001b[0madd_\u001b[0m\u001b[1;33m(\u001b[0m\u001b[0mM\u001b[0m\u001b[1;33m)\u001b[0m\u001b[1;33m\u001b[0m\u001b[1;33m\u001b[0m\u001b[0m\n\u001b[0m\u001b[0;32m      3\u001b[0m \u001b[0mprint\u001b[0m\u001b[1;33m(\u001b[0m\u001b[0mN\u001b[0m\u001b[1;33m)\u001b[0m\u001b[1;33m\u001b[0m\u001b[1;33m\u001b[0m\u001b[0m\n\u001b[0;32m      4\u001b[0m \"\"\"\n\u001b[0;32m      5\u001b[0m \u001b[0m方法1和方法2都触发了广播机制\u001b[0m\u001b[0;31m，\u001b[0m\u001b[0m因为两个tensor的形状不同\u001b[0m\u001b[1;33m\u001b[0m\u001b[1;33m\u001b[0m\u001b[0m\n",
      "\u001b[1;31mRuntimeError\u001b[0m: output with shape [2, 1] doesn't match the broadcast shape [2, 3]"
     ]
    }
   ],
   "source": [
    "#加法形式3\n",
    "N.add_(M)\n",
    "print(N)\n",
    "\"\"\"\n",
    "方法1和方法2都触发了广播机制，因为两个tensor的形状不同\n",
    "方法3不满足触发广播机制的条件，因为tensor形状不同，所以报错\n",
    "\"\"\""
   ]
  },
  {
   "cell_type": "markdown",
   "metadata": {},
   "source": [
    "## 基本操作实验2\n",
    "1) 利用 𝐓𝐞𝐧𝐬𝐨𝐫 创建两个大小分别 𝟑×𝟐 和 𝟒×𝟐 的随机数矩阵 𝑷 和 𝑸 ，要求服从均值为0，标准差0.01为的正态分布 \\\n",
    "2) 对第二步得到的矩阵 𝑸 进行形状变换得到 𝑸 的转置 $𝑸^𝑻$  \\\n",
    "3) 对上述得到的矩阵 𝑷 和矩阵 $𝑸^𝑻$ 求内积"
   ]
  },
  {
   "cell_type": "code",
   "execution_count": 5,
   "metadata": {
    "ExecuteTime": {
     "end_time": "2020-07-02T06:29:54.708036Z",
     "start_time": "2020-07-02T06:29:54.695051Z"
    }
   },
   "outputs": [
    {
     "name": "stdout",
     "output_type": "stream",
     "text": [
      "tensor([[ 0.0129, -0.0302],\n",
      "        [ 0.0008, -0.0186],\n",
      "        [ 0.0070,  0.0052]])\n",
      "tensor([[ 0.0106, -0.0061],\n",
      "        [-0.0024,  0.0074],\n",
      "        [-0.0132,  0.0051],\n",
      "        [ 0.0123,  0.0003]])\n"
     ]
    }
   ],
   "source": [
    "P=torch.normal(0,0.01,size=(3,2))\n",
    "Q=torch.normal(0,0.01,size=(4,2))\n",
    "print(P)\n",
    "print(Q)"
   ]
  },
  {
   "cell_type": "code",
   "execution_count": 6,
   "metadata": {
    "ExecuteTime": {
     "end_time": "2020-07-02T06:30:34.416273Z",
     "start_time": "2020-07-02T06:30:34.407867Z"
    }
   },
   "outputs": [
    {
     "name": "stdout",
     "output_type": "stream",
     "text": [
      "tensor([[ 0.0106, -0.0024, -0.0132,  0.0123],\n",
      "        [-0.0061,  0.0074,  0.0051,  0.0003]])\n"
     ]
    }
   ],
   "source": [
    "Q_T=torch.t(Q)\n",
    "print(Q_T)"
   ]
  },
  {
   "cell_type": "code",
   "execution_count": 7,
   "metadata": {
    "ExecuteTime": {
     "end_time": "2020-07-02T06:31:04.883835Z",
     "start_time": "2020-07-02T06:31:04.875087Z"
    }
   },
   "outputs": [
    {
     "name": "stdout",
     "output_type": "stream",
     "text": [
      "tensor([[ 3.1986e-04, -2.5523e-04, -3.2358e-04,  1.5058e-04],\n",
      "        [ 1.2197e-04, -1.4029e-04, -1.0570e-04,  5.5214e-06],\n",
      "        [ 4.2378e-05,  2.1580e-05, -6.5687e-05,  8.6870e-05]])\n"
     ]
    }
   ],
   "source": [
    "#只能使用matmul方法 不能使用dot方法 dot方法只能计算一维tensor\n",
    "print(torch.matmul(P,Q_T))"
   ]
  },
  {
   "cell_type": "markdown",
   "metadata": {},
   "source": [
    "## 基本操作实验3\n",
    "给定公式$𝑦_3=𝑦_1+𝑦_2=𝑥^2+𝑥^3$，且 $𝑥=1$。利用学习所得到的Tensor的相关知识，求$𝑦_3$对的梯度𝑥，即$𝑑𝑦_3$/$𝑑𝑥$。要求在计算过程中，在计算 $𝑥^3$ 时中断梯度的追踪，观察结果并进行原因分析\n",
    "\n",
    "$x^3$的梯度是2而不是5的原因：\\\n",
    "由于 $y_2$的定义是被torch.no_grad():包裹的，所以与$y_2$有关的梯度是不会回传的，只有与$y_1$有关的梯度才会回传，即$x^2$对 $x$的梯度。\\\n",
    "而y2.requires_grad=False，所以不能调用 y2.backward()，会报错"
   ]
  },
  {
   "cell_type": "code",
   "execution_count": 8,
   "metadata": {
    "ExecuteTime": {
     "end_time": "2020-07-02T06:36:44.415089Z",
     "start_time": "2020-07-02T06:36:44.400368Z"
    }
   },
   "outputs": [
    {
     "name": "stdout",
     "output_type": "stream",
     "text": [
      "tensor([[0.5000, 0.5000],\n",
      "        [0.5000, 0.5000]])\n"
     ]
    }
   ],
   "source": [
    "x=torch.ones(2,2,requires_grad=True)\n",
    "y1=x**2\n",
    "with torch.no_grad():\n",
    "    y2=x**3\n",
    "# y2=x**3\n",
    "y3=y1+y2\n",
    "out=y3.mean()\n",
    "out.backward()\n",
    "print(x.grad)"
   ]
  },
  {
   "cell_type": "code",
   "execution_count": 9,
   "metadata": {
    "ExecuteTime": {
     "end_time": "2020-07-02T06:36:46.053699Z",
     "start_time": "2020-07-02T06:36:45.995175Z"
    }
   },
   "outputs": [],
   "source": [
    "#如果y2=x**3这部分被with torch.no_grad()包裹起来 这部分就不进行track操作\n",
    "#如果没被包裹 那么求梯度的时候 y3=x**2+x**3 x=1时 求偏导为5/4\n",
    "#若包裹 y3=x**2 x=1 求偏导为 1/2"
   ]
  },
  {
   "cell_type": "code",
   "execution_count": 1,
   "metadata": {},
   "outputs": [],
   "source": [
    "import torch.nn as nn"
   ]
  },
  {
   "cell_type": "code",
   "execution_count": null,
   "metadata": {},
   "outputs": [],
   "source": [
    "nn.AvgPool2d"
   ]
  }
 ],
 "metadata": {
  "kernelspec": {
   "display_name": "Python 3.7.4 64-bit ('pytorch': conda)",
   "language": "python",
   "name": "python37464bitpytorchconda0a4842cb181546f0bba59e31fe04aadb"
  },
  "language_info": {
   "codemirror_mode": {
    "name": "ipython",
    "version": 3
   },
   "file_extension": ".py",
   "mimetype": "text/x-python",
   "name": "python",
   "nbconvert_exporter": "python",
   "pygments_lexer": "ipython3",
   "version": "3.7.9"
  },
  "toc": {
   "base_numbering": 1,
   "nav_menu": {},
   "number_sections": true,
   "sideBar": true,
   "skip_h1_title": true,
   "title_cell": "Table of Contents",
   "title_sidebar": "Contents",
   "toc_cell": false,
   "toc_position": {},
   "toc_section_display": true,
   "toc_window_display": false
  },
  "varInspector": {
   "cols": {
    "lenName": 16,
    "lenType": 16,
    "lenVar": 40
   },
   "kernels_config": {
    "python": {
     "delete_cmd_postfix": "",
     "delete_cmd_prefix": "del ",
     "library": "var_list.py",
     "varRefreshCmd": "print(var_dic_list())"
    },
    "r": {
     "delete_cmd_postfix": ") ",
     "delete_cmd_prefix": "rm(",
     "library": "var_list.r",
     "varRefreshCmd": "cat(var_dic_list()) "
    }
   },
   "types_to_exclude": [
    "module",
    "function",
    "builtin_function_or_method",
    "instance",
    "_Feature"
   ],
   "window_display": false
  }
 },
 "nbformat": 4,
 "nbformat_minor": 2
}
